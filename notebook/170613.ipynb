{
 "cells": [
  {
   "cell_type": "markdown",
   "metadata": {
    "school_cell_uuid": "41e90d4eafb649758a0fe21b6fd4e32e"
   },
   "source": [
    "# 확률 변수"
   ]
  },
  {
   "cell_type": "markdown",
   "metadata": {
    "school_cell_uuid": "8b0154d36d8d4bc3a70909ea0ce7c096"
   },
   "source": [
    "## 확률 변수의 정의"
   ]
  },
  {
   "cell_type": "markdown",
   "metadata": {},
   "source": [
    "***\n",
    "연습문제  \n",
    "4방주사위를 던졌을때 나올 이벤트와 값을 정해보아라.(꼭 공평할 필요는 없음)  \n",
    "\n",
    "\n",
    "P()=0  \n",
    "P(1)=0.2  \n",
    "P(2)=0.2  \n",
    "P(3)=0.3  \n",
    "P(4)=0.3  \n",
    "P(1,2)=0.4  \n",
    "P(1,3)=0.5  \n",
    "P(1,4)=0.5  \n",
    "P(2,3)=0.5  \n",
    "P(2,4)=0.5  \n",
    "P(3,4)=0.6  \n",
    "P(1,2,3)=0.7  \n",
    "P(1,3,4)=0.8  \n",
    "P(1,2,4)=0.7  \n",
    "P(2,3,4)=0.8  \n",
    "P(1,2,3,4)=1  \n",
    "***"
   ]
  },
  {
   "cell_type": "markdown",
   "metadata": {
    "school_cell_uuid": "0a31975ddce240debbf0ef2b80f02b49"
   },
   "source": [
    "확률 변수는 앞서 설명한 것 처럼 표본 공간의 모든 표본에 대해 어떤 실수 값을 붙인 것이다. 확률과 확률 변수의 차이점은 다음과 같다.\n",
    "\n",
    "* 확률은 표본으로 이루어진 집합 즉, 사건에 대해 할당된 숫자이지만 확률 변수는 표본 하나 하나에 대해 할당된 숫자이다.\n",
    "* 확률은 0부터 1사이의 숫자만 할당할 수 있지만 확률 변수는 모든 실수 범위의 숫자를 할당할 수 있다."
   ]
  },
  {
   "cell_type": "markdown",
   "metadata": {
    "school_cell_uuid": "5e35a53366f24beab0a9a4b51c3d7408"
   },
   "source": [
    "따라서 확률 변수는 표본 공간을 정의역(domain)으로 가지고 실수를 공역(range)으로 가지는 함수라고 할 수 있다. 보통 $X$, $Y$ 등의 대문자 알파벳을 사용하여 확률 변수를 표기한다. 확률 변수에 의해 할당된 실수는 $x$, $y$와 같이 소문자 알파벳으로 표시한다."
   ]
  },
  {
   "cell_type": "markdown",
   "metadata": {
    "school_cell_uuid": "1790a69f69454cc29d50a420e98a49d0"
   },
   "source": [
    "$$ \\omega \\in \\Omega \\;\\;\\; \\xrightarrow{X} \\;\\;\\; \\text{실수} x \\in \\mathbb{R} $$"
   ]
  },
  {
   "cell_type": "markdown",
   "metadata": {
    "school_cell_uuid": "fbbf727899de437499d4e37863fad4b6"
   },
   "source": [
    "확률 변수를 사용하면 모든 표본은 하나의 실수 숫자로 변하기 때문에 표본 공간을 실수의 집합 즉 **수직선(number line)**으로 표시할 수 있다. 일반적인 사건(event)은 이 수직선 상의 구간으로 표시된다.\n",
    "\n",
    "예를 들어 $a$보다 같거나 크고 $b$보다 작은 숫자의 집합인 사건 $A$는 다음과 같은 기호로 표시한다.\n",
    "\n",
    "$$ A = \\{ \\omega ; a \\leq X(\\omega) < b \\} = \\{ a \\leq X < b \\} $$"
   ]
  },
  {
   "cell_type": "markdown",
   "metadata": {},
   "source": [
    "***\n",
    "수직선(number line): 직각을 이루는 선을 말하는것이 아니고 아래와 같은 선  \n",
    "<-----|-----|-----|-----|-----|----->  \n",
    "......-1......0.....1.....2.....3\n",
    "\n",
    "\n",
    "확률을 계산해 주는 함수통 $ P( \\{ a \\leq x < b \\} )$\n",
    "***"
   ]
  },
  {
   "cell_type": "markdown",
   "metadata": {
    "school_cell_uuid": "09926d730a0b4840a6b1fe2e1519ad8b"
   },
   "source": [
    "## 이산 확률 변수"
   ]
  },
  {
   "cell_type": "markdown",
   "metadata": {
    "school_cell_uuid": "2a486ad328624a798e70003b781e5720"
   },
   "source": [
    "예를 들어 주사위의 확률 문제에서 주사위에서 나올 수 있는 모든 면의 집합인 표본집합 $\\{⚀,⚁,⚂,⚃,⚄,⚅\\}$ 내의 모든 표본에 대해 다음과 같이 숫자를 할당하면 1부터 6까지 값을 가지는 확률변수가 된다. 이렇게 확률 변수값이 연속적(continuous)이지 않고 떨어져(discrete) 있는 경우를 **이산 확률 변수(discrete random variable)**라고 한다."
   ]
  },
  {
   "cell_type": "markdown",
   "metadata": {
    "school_cell_uuid": "4d9824661a3b4caaaded588cc28893c9"
   },
   "source": [
    "$$X(⚀) = 1$$\n",
    "$$X(⚁) = 2$$\n",
    "$$X(⚂) = 3$$\n",
    "$$X(⚃) = 4$$\n",
    "$$X(⚄) = 5$$\n",
    "$$X(⚅) = 6$$"
   ]
  },
  {
   "cell_type": "markdown",
   "metadata": {
    "school_cell_uuid": "b2fc875197054af8865cd24d30a728d1"
   },
   "source": [
    "주의 할 점은 이산 확률 변수의 정의는 값의 이산성이지 가능한 경우가 유한하다는 점이 아니라는 점이다. 이산 확률 변수도 연속 확률 변수와 같이 가능한 값 자체는 무한대의 경우의 수가 있을 수 있다. 예를 들어 [기하 분포(geometric distribution)](https://en.wikipedia.org/wiki/Geometric_distribution)는 양의 정수값을 가지는 이산 분포이지만 무한대의 양의 정수도 0이 아닌 확률을 가질 수 있다."
   ]
  },
  {
   "cell_type": "markdown",
   "metadata": {
    "school_cell_uuid": "1f325b6865364cfdbe9f57c44ae0ed6b"
   },
   "source": [
    "확률 변수를 정의한다는 것은 표본(sample)이라는 추상적이고 일반적인 개념대신 숫자라는 명확한 개념을 대신 사용하겠다는 의미이다. 현실적으로도 계산이 가능한 것은 숫자 뿐이므로 데이터 분석을 수행하기 위해서는 결국 표본의 특성(feature)을 숫자로 변환하는 단계가 필요하다."
   ]
  },
  {
   "cell_type": "markdown",
   "metadata": {
    "school_cell_uuid": "ba17dc143b4d4fb8bbaebdf824b09941"
   },
   "source": [
    "## 연속 확률 변수"
   ]
  },
  {
   "cell_type": "markdown",
   "metadata": {
    "school_cell_uuid": "5ebcfd0c8f384aa4ad23ae20cc3bf429"
   },
   "source": [
    "이번에는 주사위가 아닌 시계 바늘을 예로 들어보자. 시계 바늘이 특정한 위치를 가르키는 현상을 표본(sample)으로 생각하고 12시를 기준으로 해당 위치까지의 각도를 확률 변수로 하면 이 연속 확률 변수의 값은 실수(real number) 집합처럼 연속적이고 무한개의 경우의 수를 가진다. \n",
    "이러한 확률 변수를 **연속 확률 변수 (continuous random variable)**라고 한다."
   ]
  },
  {
   "cell_type": "markdown",
   "metadata": {
    "school_cell_uuid": "c2a3940658d24531bf78d4953e73af93"
   },
   "source": [
    "확률의 정의에서 다루었듯이 이 시계바늘 문제에서 시계바늘이 특정한 시각을 가리킬 확률은 0도이다. 따라서 확률을 정의할 때 특정한 각도에 대해 정의한 것이 아니라 구간(inteval)이라는 사건(event)에 대해 확률을 정의하였다."
   ]
  },
  {
   "cell_type": "markdown",
   "metadata": {
    "school_cell_uuid": "9cf26a7da9bd4fb4bb3183b2e22abd75"
   },
   "source": [
    "확률 변수를 사용하여 얻을 수 있는 또 다른 장점은 이와 같은 연속 확률 분포의 경우에 사건(event)을 수직선 상의 실수 구간(interval)으로 변환할 수 있다는 것이다. 구간은 시작점과 끝점이라는 두 개의 숫자로 묘사하는 것이 가능하므로 결국 두 개의 실수 숫자 쌍으로 사건을 정의 할 수 있다. \n",
    "\n",
    "예를 들어 $\\{ a \\leq X < b \\}$ 라는 사건은 사실 표본에 할당된 확률 변수의 값이 $a$ 보다 같거나 크고 $b$ 보다 작은 모든 표본들을 모아 놓은 부분집합인 사건을 가리키는 것으로 본다.\n",
    "\n",
    "$$ \\{ a \\leq X < b \\} = \\{ \\omega ; a \\leq X(\\omega) < b \\} $$"
   ]
  },
  {
   "cell_type": "markdown",
   "metadata": {
    "school_cell_uuid": "3fce75f417f84324870b10d903a7b31f"
   },
   "source": [
    "따라서 확률 자체도 원래의 정의처럼 사건 자체에 대해 정의할 필요 없이 다음과 같이 실수 구간에 대해 정의할 수 있다.\n",
    "\n",
    "$$P(\\{ a \\leq X < b \\}) = P(\\{ \\omega ; a \\leq X(\\omega) < b \\})  $$"
   ]
  },
  {
   "cell_type": "markdown",
   "metadata": {
    "school_cell_uuid": "e7855bbd2c1a4f68949f13b3e698e289"
   },
   "source": [
    "시계 바늘 확률 문제의 경우를 예로 들면 시계바늘이 가리키는 위치의 각도는 확률 변수가 된다. 또한 확률을 정의하기 위한 사건(event)은 다음과 같이 두 위치 사이의 각(degree)이 된다. 따라서 다음과 같은 사건 및 이에 해당하는 확률을 가질 수 있다.\n",
    "\n",
    "$$ P(\\{  30^{\\circ} \\leq \\theta < 60^{\\circ} \\})  $$\n",
    "$$ P(\\{  10^{\\circ} \\leq \\theta < 20^{\\circ} \\})  $$\n",
    "$$ P(\\{  90^{\\circ} \\leq \\theta < 180^{\\circ} \\})  $$"
   ]
  },
  {
   "cell_type": "markdown",
   "metadata": {
    "school_cell_uuid": "61693844140a407ca8f3b15182ffd379"
   },
   "source": [
    "# 누적 분포 함수와 확률 밀도 함수"
   ]
  },
  {
   "cell_type": "markdown",
   "metadata": {
    "school_cell_uuid": "828356005ef742d3a04228d609384612"
   },
   "source": [
    "누적 분포 함수(cumulative distribution function)와 확률 밀도 함수(probability density function)는 확률 변수의 분포 즉, 확률 분포를 수학적으로 정의하기 위한 수식이다."
   ]
  },
  {
   "cell_type": "markdown",
   "metadata": {
    "school_cell_uuid": "126f5f7d2174430ea7c0f9e42082f9ff"
   },
   "source": [
    "## 확률 분포의 묘사"
   ]
  },
  {
   "cell_type": "markdown",
   "metadata": {
    "school_cell_uuid": "f50adf0d359e422ab07a6dbf64448975"
   },
   "source": [
    "확률의 정의에서 확률은 **사건(event)이라는 표본의 집합에 대해 할당된 숫자**라고 하였다. 데이터 분석을 하려면 확률이 구체적으로 어떻게 할당되었는지를 묘사(describe)하거 전달(communicate)해야 할 필요가 있다. **어떤 사건에 어느 정도의 확률이 할당되었는지를 묘사한 것을 확률 분포(distribution)**라고 한다."
   ]
  },
  {
   "cell_type": "markdown",
   "metadata": {
    "school_cell_uuid": "2404816ffff94faca554f0d988e3e7b4"
   },
   "source": [
    "확률 분포를 묘사하기 위해서는 모든 사건(event)들을 하나 하나 제시하고 거기에 할당된 숫자를 보여야 하기 때문에 확률 분포의 묘사는 결코 쉽지 않은 작업이다. 그러나 확률 변수를 이용하면 이러한 묘사 작업이 좀 더 쉬워진다. 왜냐하면 사건(event)이 구간(interval)이 되고 이 구산을 지정하는데는 시작점과 끝점이라는 두 개의 숫자만 있으면 되기 때문이다."
   ]
  },
  {
   "cell_type": "markdown",
   "metadata": {
    "school_cell_uuid": "b75c9b9f44854a0e9f3f99904c2704b3"
   },
   "source": [
    "그러나 사건(event) 즉, 구간(interval) 하나를 정의하기 위해 숫자가 하나가 아닌 두 개가 필요하다는 점은 아무래도 불편하다. 숫자 하나만으로 사건 즉, 구간을 정의할 수 있는 방법은 없을까? 이를 해결하기 위한 아이디어 중 하나는 구간의 시작을 나타내는 숫자를 모두 같은 숫자인 음수 무한대($-\\infty$)로 통일하는 것이다. 여러가지 구간들 중에서 시작점이 음수 무한대인 구간만 사용하는 것이라고 볼 수 있다. "
   ]
  },
  {
   "cell_type": "markdown",
   "metadata": {
    "school_cell_uuid": "52e1d026880e4213840eab44003e7633"
   },
   "source": [
    "$$\\{ -\\infty \\leq X < -1 \\} $$\n",
    "$$\\{ -\\infty \\leq X < 0 \\} $$\n",
    "$$\\{ -\\infty \\leq X < 1 \\} $$\n",
    "$$\\{ -\\infty \\leq X < 2 \\} $$\n",
    "$$ \\vdots $$\n",
    "$$ \\{ -\\infty \\leq X < x \\} $$\n",
    "$$ \\vdots $$"
   ]
  },
  {
   "cell_type": "markdown",
   "metadata": {
    "school_cell_uuid": "18458f8060f04e83817d80d49c7b4923"
   },
   "source": [
    "물론 이러한 구간들은 확률의 정의를 구성하는 전체 사건 중 일부에 지나지 않는다. 그러나 확률 공간의 정의를 이용하면 이러한 구간들로부터 시작점이 음수 무한대가 아닌 다른 구간들을 생성할 수 있다. 또한 새로 생성된 구간들에 대한 확률값도 확률의 정의에 따라 계산할 수 있다."
   ]
  },
  {
   "cell_type": "markdown",
   "metadata": {
    "school_cell_uuid": "b37ff42866e94588b0f7bb77a3af99d4"
   },
   "source": [
    "## 누적 확률 분포"
   ]
  },
  {
   "cell_type": "markdown",
   "metadata": {
    "school_cell_uuid": "7f07c3e815004e86856b4d966a73addf"
   },
   "source": [
    "위와 같은 방법으로 서술된 확률 분포를 **누적 분포 함수 (cumulative distribution function)** 또는 누적 확률 분포라고 하고 약자로  **cdf**라고 쓴다. 일반적으로 cdf는 대문자를 사용하여 $F(x)$와 같은 기호로 표시하며 이 때 독립 변수 $x$는 범위의 끝을 뜻한다. 범위의 시작은 음의 무한대(negative infinity, $-\\infty$)이다."
   ]
  },
  {
   "cell_type": "markdown",
   "metadata": {
    "school_cell_uuid": "f984d16c3e6342f198e8f868c60c216c"
   },
   "source": [
    "확률 변수 $X$에 대한 누적 확률 분포 $F(x)$의 수학적 정의는 다음과 같다.\n",
    "\n",
    "$$ F(x) = P(\\{X < x\\}) = P(X < x)$$"
   ]
  },
  {
   "cell_type": "markdown",
   "metadata": {},
   "source": [
    "***\n",
    "x는 최대값 $+\\infty$\n",
    "***"
   ]
  },
  {
   "cell_type": "markdown",
   "metadata": {
    "school_cell_uuid": "d51d42f83ff645029a80dfee376c01a8"
   },
   "source": [
    "몇가지 누적 확률 분포 표시의 예를 들면 다음과 같다.\n",
    "\n",
    "\n",
    "\n",
    "$$ \\vdots $$\n",
    "* $F(-1)$ : 확률 변수가 $-\\infty$이상 -1 미만인 구간 내에 존재할 확률 즉, $P( \\{ -\\infty \\leq X < -1 \\})$\n",
    "* $F(0)$ : 확률 변수가 $-\\infty$이상 0 미만인 구간 내에 존재할 확률 즉, $P( \\{ -\\infty \\leq X < 0 \\})$\n",
    "* $F(1)$ : 확률 변수가 $-\\infty$이상 1 미만인 구간 내에 존재할 확률 즉, $P( \\{ -\\infty \\leq X < 1 \\})$\n",
    "$$ \\vdots $$\n",
    "* $F(10)$ : 확률 변수가 $-\\infty$이상 10 미만인 구간 내에 존재할 확률 즉, $P( \\{ -\\infty \\leq X < 10 \\})$\n",
    "$$ \\vdots $$"
   ]
  },
  {
   "cell_type": "markdown",
   "metadata": {
    "school_cell_uuid": "e4b8eef0551847eea2439415aa7e24f8"
   },
   "source": [
    "시계 바늘 확률 문제의 경우를 예로 들어보자. 이 경우에는 각도가 0도부터 360까지이지만 음의 무한대를 시작점으로 해도 상관없다.\n",
    "\n",
    "$$ F(0) = P(\\{ -\\infty {}^{\\circ} \\leq \\theta < 0 {}^{\\circ} \\}) = 0 $$\n",
    "$$ F(10) = P(\\{ -\\infty {}^{\\circ} \\leq \\theta < 10 {}^{\\circ} \\}) = \\dfrac{1}{36} $$\n",
    "$$ F(20) = P(\\{ -\\infty {}^{\\circ} \\leq \\theta < 20 {}^{\\circ} \\}) = \\dfrac{2}{36} $$\n",
    "$$ \\vdots $$\n",
    "$$ F(350) = P(\\{ -\\infty {}^{\\circ} \\leq \\theta < 350 {}^{\\circ} \\}) = \\dfrac{35}{36} $$\n",
    "$$ F(360) = P(\\{ -\\infty {}^{\\circ} \\leq \\theta < 360 {}^{\\circ} \\}) = 1 $$\n",
    "$$ F(370) = P(\\{ -\\infty {}^{\\circ} \\leq \\theta < 370 {}^{\\circ} \\}) = 1 $$\n",
    "$$ F(380) = P(\\{ -\\infty {}^{\\circ} \\leq \\theta < 380 {}^{\\circ} \\}) = 1 $$\n",
    "$$ \\vdots $$"
   ]
  },
  {
   "cell_type": "markdown",
   "metadata": {
    "school_cell_uuid": "f05dff99968f4083815fad8978085bea"
   },
   "source": [
    "이를 NumPy와 matplotlib를 사용하여 그래프로 그래면 다음과 같다."
   ]
  },
  {
   "cell_type": "code",
   "execution_count": 4,
   "metadata": {
    "school_cell_uuid": "816f27a88f1947189c806b1d326ca6e8"
   },
   "outputs": [
    {
     "data": {
      "image/png": "[encoded data removed]",
      "text/plain": [
       "<matplotlib.figure.Figure at 0x27ed031e198>"
      ]
     },
     "metadata": {},
     "output_type": "display_data"
    }
   ],
   "source": [
    "t = np.linspace(-100, 500, 100)\n",
    "F = t / 360\n",
    "F[t < 0] = 0\n",
    "F[t > 360] = 1\n",
    "plt.plot(t, F)\n",
    "plt.ylim(-0.1, 1.1)\n",
    "plt.xticks([0, 180, 360]);\n",
    "plt.title(\"Cumulative Distribution Function\");\n",
    "plt.xlabel(\"$x$ (deg.)\");\n",
    "plt.ylabel(\"$F(x)$\");\n",
    "plt.show()"
   ]
  },
  {
   "cell_type": "markdown",
   "metadata": {
    "school_cell_uuid": "fdc9f91ab57a458db8acc351be504266"
   },
   "source": [
    "누적 밀도 함수 즉 cdf는 다음과 같은 특징을 가진다."
   ]
  },
  {
   "cell_type": "markdown",
   "metadata": {
    "school_cell_uuid": "b7424254432d4ec3abac7ea1d26594ac"
   },
   "source": [
    "\n",
    "* $F(-\\infty) = 0$\n",
    "* $F(+\\infty) = 1$\n",
    "* $F(x) \\geq F(y) \\;\\; \\text{ if } \\;\\; x > y $"
   ]
  },
  {
   "cell_type": "markdown",
   "metadata": {
    "school_cell_uuid": "154f49ac8f76405fb293258f032c0520"
   },
   "source": [
    "## 확률 밀도 함수"
   ]
  },
  {
   "cell_type": "markdown",
   "metadata": {
    "school_cell_uuid": "3da4432fd49348eebcc11174f1276cfc"
   },
   "source": [
    "누적 분포 함수는 확률 분포를 함수라는 편리한 상태로 바꾸어 주었다. 누적 분포 함수는 확률이 어느 사건(event)에 어느 정도 분포되어 있는지 수학적으로 명확하게 표현해 준다. \n",
    "\n",
    "그러나 누적 분포 함수가 표현하는 사건이 음수 무한대를 시작점으로 하고 변수 $x$를 끝점으로 하는 구간이다보니 분포의 형상을 직관적으로 이해하기는 힘든 단점이 있다. 다시 말해서 어떤 확률 변수 값이 더 자주 나오는지에 대한 정보를 알기 힘들다는 점이다.\n",
    "\n",
    "이를 알기 위해서는 확률 변수가 나올 수 있는 전체 구간 ($-\\infty$ ~ $\\infty$)을 아주 작은 폭을 가지는 구간들로 나눈 다음 각 구간의 확률을 살펴보는 것이 편리하다. 다만 이렇게 되면 구간의 폭(width)을 어느 정도로 정의해야 하는지에 대한 추가적인 약속이 필요하기 때문에 실효성이 떨어진다."
   ]
  },
  {
   "cell_type": "markdown",
   "metadata": {
    "school_cell_uuid": "8671e16ea77245bd81cd01c164d225b9"
   },
   "source": [
    "이러한 단점을 보완하기 위해 생각한 것이 절대적인 확률이 아닌 상대적인 확률 분포 형태만을 보기 위한 확률 밀도 함수(probability density function)이다. \n",
    "\n",
    "누적 확률 분포 그래프의 x축의 오른쪽으로 이동하면서 크기의 변화를 살펴보자.만약 특정한 $x$값 근처의 구간에 확률이 배정되지 않았다면 누적 분포 함수는 그 구간을 지나도 증가하지 않는다. 즉, 기울기가 0이다. 왜냐하면 $x$ 값이 커졌다(x축의 오른쪽으로 이동하였다)는 것은 앞의 구간을 포함하는 더 큰 구간(사건)에 대한 확률을 묘사하고 있는 것인데 추가적으로 포함된 신규 구간에 확률이 없다면 그 신규 구간을 포함한 구간이나 포함하지 않은 구간이나 배정된 확률이 같기 때문이다.\n",
    "\n",
    "누적 분포 함수의 기울기가 0이 아닌 경우는 추가적으로 포함된 구간에 0이 아닌 확률이 할당되어 있는 경우이다. 만약 더 많은 확률이 할당되었다면 누적 분포 함수는 그 구간을 지나면서 더 빠른 속도로 증가할 것이다. 다시 말해서 함수의 기울기가 커진다. 이러한 방식으로 누적 분포의 기울기의 크기를 보면 각 위치에 배정된 확률의 상대적 크기를 알 수 있다.\n"
   ]
  },
  {
   "cell_type": "markdown",
   "metadata": {
    "school_cell_uuid": "173bbfe536c24f6b843f3202e4258c5e"
   },
   "source": [
    "기울기를 구하는 수학적 연산이 미분(differentiation)이므로 확률 밀도 함수는 누적 분포 함수의 미분으로 정의한다.\n",
    "\n",
    "$$ \\dfrac{dF(x)}{dx} = f(x) $$\n",
    "\n",
    "이를 적분으로 나타내면 다음과 같다.\n",
    "\n",
    "$$ F(x) = \\int_{-\\infty}^{x} f(u) du $$\n",
    "\n",
    "확률 밀도 함수는 특정 확률 변수 구간의 확률이 다른 구간에 비해 **상대적으로** 얼마나 높은가를 나타내는 것이며 그 **값 자체가 확률은 아니다**라는 점을 명심해야 한다."
   ]
  },
  {
   "cell_type": "markdown",
   "metadata": {},
   "source": [
    "***\n",
    "pdf 값은 확률의 기울기다. 확률이 아니다. 1보다 큰 값이 나올 수 있다.\n",
    "***"
   ]
  },
  {
   "cell_type": "markdown",
   "metadata": {
    "school_cell_uuid": "903594347f6b4bb8b6202d6db1412ca4"
   },
   "source": [
    "확률 밀도 함수는 다음과 같은 특징을 가진다.\n",
    "\n",
    "* $-\\infty$ 부터 $\\infty$ 까지 적분하면 그 값은 1이 된다.\n",
    "\n",
    "$$ \\int_{-\\infty}^{\\infty} f(u)du = 1$$\n",
    "\n",
    "* 확률 밀도 함수는 0보다 같거나 크다.\n",
    "\n",
    "$$ f(x) \\geq 0 $$\n"
   ]
  },
  {
   "cell_type": "markdown",
   "metadata": {
    "school_cell_uuid": "b31ae61044de466e85dbed1cdd7743a5"
   },
   "source": [
    "앞서 보인 시계 바늘 문제에서 확률 밀도함수를 구하면 다음과 같다."
   ]
  },
  {
   "cell_type": "code",
   "execution_count": 3,
   "metadata": {
    "school_cell_uuid": "15e039e2ffa9402d80c21e8527ce3a8f"
   },
   "outputs": [
    {
     "data": {
      "image/png": "[encoded data removed]",
      "text/plain": [
       "<matplotlib.figure.Figure at 0x27ecfc1f390>"
      ]
     },
     "metadata": {},
     "output_type": "display_data"
    }
   ],
   "source": [
    "t = np.linspace(-100, 500, 1000)\n",
    "F = t / 360\n",
    "F[t < 0] = 0\n",
    "F[t > 360] = 1\n",
    "f = np.gradient(F, 600/1000)  # 수치미분\n",
    "plt.plot(t, f)\n",
    "plt.ylim(-0.0001, f.max()*1.1)\n",
    "plt.xticks([0, 180, 360]);\n",
    "plt.title(\"Probability Density Function\");\n",
    "plt.xlabel(\"$x$ (deg.)\");\n",
    "plt.ylabel(\"$f(x)$\");\n",
    "plt.show()"
   ]
  },
  {
   "cell_type": "markdown",
   "metadata": {
    "school_cell_uuid": "bc575003bf434d3baf5d0df5a3f08267"
   },
   "source": [
    "## 확률 질량 함수"
   ]
  },
  {
   "cell_type": "markdown",
   "metadata": {
    "school_cell_uuid": "2b9ad62e2ad44dcda2b5f75342cdba45"
   },
   "source": [
    "이산 확률 분포는 확률 밀도 함수를 정의할 수 없는 대신 확률 질량 함수가 존재한다. **확률 질량 함수(probability mass funtion)는 이산 확률 변수의 가능한 값 하나 하나에 대해 확률을 정의한 함수**이다. 예를 들어 6면체인 주사위를 던져서 나올 수 있는 값은 1부터 6까지의 이산적인 값을 가지는데 이러한 이산 확률 변수는 예를 들어 다음과 같은 확률 질량 함수를 가질 수 있다. 이 경우에는 공정하지 않은(unfair) 주사위의 확률 분포를 보이고 있다."
   ]
  },
  {
   "cell_type": "code",
   "execution_count": 2,
   "metadata": {
    "school_cell_uuid": "de36a64d6f3942c2afb4fa6a3e112d6c"
   },
   "outputs": [
    {
     "data": {
      "image/png": "[encoded data removed]",
      "text/plain": [
       "<matplotlib.figure.Figure at 0x1c6677e0c88>"
      ]
     },
     "metadata": {},
     "output_type": "display_data"
    }
   ],
   "source": [
    "x = np.arange(1,7)\n",
    "y = np.array([0.0, 0.1, 0.1, 0.2, 0.2, 0.4])\n",
    "plt.stem(x, y);\n",
    "plt.xlim(0, 7);\n",
    "plt.ylim(-0.01, 0.5);\n",
    "plt.show()"
   ]
  },
  {
   "cell_type": "markdown",
   "metadata": {
    "school_cell_uuid": "ec318fde5d5e42af96659df45a4307d8"
   },
   "source": [
    "위의 확률 질량 함수는 주사위 눈금 1이 나오지 않고 6이 비정상적으로 많이 나오게 만든 비정상적인 주사위(unfair dice)를 묘사한다."
   ]
  },
  {
   "cell_type": "markdown",
   "metadata": {},
   "source": [
    "***\n",
    "pmf 값은 그자체가 확률이다(pdf와 다름)\n",
    "***"
   ]
  },
  {
   "cell_type": "markdown",
   "metadata": {
    "school_cell_uuid": "49058b8ec400401ba220e1ca4571a071"
   },
   "source": [
    "이 확률 변수에 대해 각 값을 누적하여 더하면 이산 확률 변수의 **누적 분포 함수(cumulative distribution function)**를 구할 수 있다."
   ]
  },
  {
   "cell_type": "code",
   "execution_count": 4,
   "metadata": {
    "school_cell_uuid": "2659cad8e8d0496faefac05ba26b7641",
    "scrolled": false
   },
   "outputs": [
    {
     "data": {
      "image/png": "[encoded data removed]",
      "text/plain": [
       "<matplotlib.figure.Figure at 0x1c66d9956d8>"
      ]
     },
     "metadata": {},
     "output_type": "display_data"
    }
   ],
   "source": [
    "x = np.arange(1,7)\n",
    "y = np.array([0.0, 0.1, 0.1, 0.2, 0.2, 0.4])\n",
    "z = np.cumsum(y)\n",
    "plt.step(x, z, where=\"post\");\n",
    "plt.xlim(0, 7);\n",
    "plt.ylim(-0.01, 1.1)\n",
    "plt.show()"
   ]
  },
  {
   "cell_type": "markdown",
   "metadata": {
    "school_cell_uuid": "104f18d9c66d47e69ba9940e75d41777"
   },
   "source": [
    "# SciPy를 이용한 확률 분포 분석"
   ]
  },
  {
   "cell_type": "markdown",
   "metadata": {
    "school_cell_uuid": "4267cbde23f44c3391fd7b361dee2488"
   },
   "source": [
    "SciPy는 각종 수치 해석 기능을 제공하는 파이썬 패키지다. SciPy는 여러개의 서브 패키지로 구성되어 있는데 그 중 scipy.stats 서브패키지는 여러가지 확률 분포 분석을 위한 기능을 제공한다. "
   ]
  },
  {
   "cell_type": "markdown",
   "metadata": {
    "school_cell_uuid": "f7c77645e3ec4b019cdb2b6a6e6a49d8"
   },
   "source": [
    "## 확률 분포 객체"
   ]
  },
  {
   "cell_type": "markdown",
   "metadata": {
    "school_cell_uuid": "010e204faf9045a88a57a50c5e5adcd7"
   },
   "source": [
    "SciPy에서 확률 분포 기능을 사용하려면 우선 해당 확률 분포에 대한 확률 분포 객체라는 것을 생성한 후에 이 객체의 메서드를 호출한다."
   ]
  },
  {
   "cell_type": "markdown",
   "metadata": {
    "school_cell_uuid": "8a391d4d530a4aa89a47e885cab4b51b"
   },
   "source": [
    " 확률 분포 객체를 생성하는 명령에는 다음과 같은 것들이 있다. \n",
    " \n",
    "| 종류 | 이름 | 확률 분포 |\n",
    "|-|-|-|\n",
    "| 이산 | `bernoulli` | 베르누이 분포 |\n",
    "| 이산 | `binom` |  이항 분포 |\n",
    "| 연속 | `uniform` | 균일 분포 |\n",
    "| 연속 | `norm` | 가우시안 정규 분포 |\n",
    "| 연속 | `beta` | 베타 분포 |\n",
    "| 연속 | `gamma` | 감마 분포 |\n",
    "| 연속 | `t` | 스튜던트 t 분포 |\n",
    "| 연속 | `chi2` | 카이 제곱 분포 |\n",
    "| 연속 | `f` | F 분포 |\n",
    "| 연속 | `dirichlet` | 디리클리 분포 |\n",
    "| 연속 | `multivariate_normal` | 다변수 가우시안 정규 분포 |\n"
   ]
  },
  {
   "cell_type": "markdown",
   "metadata": {
    "school_cell_uuid": "48cfd11f1599456d9ac28c0c866eee89"
   },
   "source": [
    "이 명령들은 모두 scipy.stats 서브패키지에 포함되어 있으므로 명령 앞에 서브패키지 이름과 마침표를 붙여야 한다. 예를 들어 가우시안 정규 분포 객체는 다음과 같이 생성한다."
   ]
  },
  {
   "cell_type": "code",
   "execution_count": 1,
   "metadata": {
    "collapsed": true,
    "school_cell_uuid": "0d32d4419aca4c7d96c8b8e171e0895b"
   },
   "outputs": [],
   "source": [
    "import scipy as sp"
   ]
  },
  {
   "cell_type": "code",
   "execution_count": 2,
   "metadata": {
    "collapsed": true,
    "school_cell_uuid": "06bb6da3a0e24d578cc90d14dba725e4"
   },
   "outputs": [],
   "source": [
    "rv = sp.stats.norm()"
   ]
  },
  {
   "cell_type": "code",
   "execution_count": 3,
   "metadata": {
    "school_cell_uuid": "b2c92b63de5345059c8d10eaa36558b8"
   },
   "outputs": [
    {
     "data": {
      "text/plain": [
       "scipy.stats._distn_infrastructure.rv_frozen"
      ]
     },
     "execution_count": 3,
     "metadata": {},
     "output_type": "execute_result"
    }
   ],
   "source": [
    "type(rv)"
   ]
  },
  {
   "cell_type": "markdown",
   "metadata": {},
   "source": [
    "***\n",
    "frozen: 수식은 주어졌지만 계수(모수)는 안주어진상태, 별도로 지정을 안하면 default값으로 지정\n",
    "***"
   ]
  },
  {
   "cell_type": "markdown",
   "metadata": {
    "school_cell_uuid": "52d2498142b748f39ee24980e136d015"
   },
   "source": [
    "### 모수 지정"
   ]
  },
  {
   "cell_type": "markdown",
   "metadata": {
    "school_cell_uuid": "d1d7a2a0a2ea480988c357a678867363"
   },
   "source": [
    "확률 분포 객체를 생성할 때는 분포의 모수(parameter)를 인수로 지정해 주어야 한다. 각 확률 분포마다 지정해 주어야 할 모수가 다르므로 자세한 설명은 문서를 참조하여야 하지만 대부분 다음과 같은 모수들을 공통적으로 가진다.\n",
    "\n",
    "| 모수 또는 인수 | 의미 |\n",
    "|-|-|\n",
    "| `loc` | 일반적으로 분포의 기댓값 |\n",
    "| `scale` |  일반적으로 분포의 표준편차 | \n",
    "| `size` | 샘플 생성시 생성될 샘플의 크기 | \n",
    "| `random_state` |  샘플 생성시 사용되는 시드(seed)값 |\n",
    "\n"
   ]
  },
  {
   "cell_type": "markdown",
   "metadata": {
    "school_cell_uuid": "1cce186095444bf1bf964bb8a38b752e"
   },
   "source": [
    "예를 들어 기댓값이 1이고 표준 편차가 2인 정규 분포 객체는 다음과 같이 생성한다."
   ]
  },
  {
   "cell_type": "code",
   "execution_count": 4,
   "metadata": {
    "collapsed": true,
    "school_cell_uuid": "e264ca4f289d4d97889912cd2a28b694"
   },
   "outputs": [],
   "source": [
    "rv = sp.stats.norm(loc=1, scale=2)"
   ]
  },
  {
   "cell_type": "markdown",
   "metadata": {
    "school_cell_uuid": "90cf5d04e23c4c68a912fad17121e948"
   },
   "source": [
    "## 확률 분포 메서드"
   ]
  },
  {
   "cell_type": "markdown",
   "metadata": {
    "school_cell_uuid": "3a17ab09190d49d8b9af1859b364c5fa"
   },
   "source": [
    "확률 분포 객체가 가지는 메서드는 다음과 같다.\n",
    "\n",
    "\n",
    "| 메서드 | 기능 |\n",
    "|-|-|\n",
    "| `pdf` | 확률 밀도 함수  (probability density function) |\n",
    "| `pmf` | 확률 질량 함수  (probability mass function) |\n",
    "| `cdf` | 누적 분포 함수 (cumulative distribution function)  |\n",
    "| `rvs` | 랜덤 샘플 생성 (random variable sampling)    |\n",
    "| `stats` | 기술 통계 함수 (descriptive statistics)   |\n",
    "| `fit` | 모수 추정 (parameter estimation)    |\n"
   ]
  },
  {
   "cell_type": "markdown",
   "metadata": {
    "school_cell_uuid": "997279bfdd5d4fd9941388d338f3afad"
   },
   "source": [
    "메서드 사용법은 다음과 같다."
   ]
  },
  {
   "cell_type": "markdown",
   "metadata": {},
   "source": [
    "***\n",
    "연속분포확률일때 pdf가 정의됨, 이산확률분포에소는 pmf가 정의됨\n",
    "***"
   ]
  },
  {
   "cell_type": "markdown",
   "metadata": {
    "school_cell_uuid": "60d3203309f340718b02d95a492babf8"
   },
   "source": [
    "### 확률 밀도 함수"
   ]
  },
  {
   "cell_type": "code",
   "execution_count": 5,
   "metadata": {
    "school_cell_uuid": "1b78ca92b88140b39f51ea7b0f4979d5"
   },
   "outputs": [
    {
     "data": {
      "image/png": "[encoded data removed]",
      "text/plain": [
       "<matplotlib.figure.Figure at 0x1b0493dba58>"
      ]
     },
     "metadata": {},
     "output_type": "display_data"
    }
   ],
   "source": [
    "xx = np.linspace(-8, 8, 100)\n",
    "pdf = rv.pdf(xx)\n",
    "plt.plot(xx, pdf)\n",
    "plt.show()"
   ]
  },
  {
   "cell_type": "markdown",
   "metadata": {
    "school_cell_uuid": "2aece7278e0843e9b14dbfe2cce40cf0"
   },
   "source": [
    "### 누적 분포 함수"
   ]
  },
  {
   "cell_type": "code",
   "execution_count": 7,
   "metadata": {
    "school_cell_uuid": "262aaf4879724af0becc20ae5e8c1c91"
   },
   "outputs": [
    {
     "data": {
      "image/png": "[encoded data removed]",
      "text/plain": [
       "<matplotlib.figure.Figure at 0x1b0458b10b8>"
      ]
     },
     "metadata": {},
     "output_type": "display_data"
    }
   ],
   "source": [
    "xx = np.linspace(-8, 8, 100)\n",
    "cdf = rv.cdf(xx)\n",
    "plt.plot(xx, cdf)\n",
    "plt.show()"
   ]
  },
  {
   "cell_type": "markdown",
   "metadata": {
    "school_cell_uuid": "34a18825645f4ed9a9d772f957f3a02d"
   },
   "source": [
    "### 랜덤 샘플 생성"
   ]
  },
  {
   "cell_type": "code",
   "execution_count": 8,
   "metadata": {
    "school_cell_uuid": "00aef653f1e94c4eba90f2917579b738"
   },
   "outputs": [
    {
     "data": {
      "text/plain": [
       "array([[ 4.52810469,  1.80031442,  2.95747597,  5.4817864 ,  4.73511598],\n",
       "       [-0.95455576,  2.90017684,  0.69728558,  0.7935623 ,  1.821197  ],\n",
       "       [ 1.28808714,  3.90854701,  2.52207545,  1.24335003,  1.88772647]])"
      ]
     },
     "execution_count": 8,
     "metadata": {},
     "output_type": "execute_result"
    }
   ],
   "source": [
    "rv.rvs(size=(3,5), random_state=0)"
   ]
  },
  {
   "cell_type": "code",
   "execution_count": 9,
   "metadata": {
    "school_cell_uuid": "ba623395b097410396d8d82eba21a7d7",
    "scrolled": true
   },
   "outputs": [
    {
     "data": {
      "image/png": "[encoded data removed]",
      "text/plain": [
       "<matplotlib.figure.Figure at 0x1b0495827b8>"
      ]
     },
     "metadata": {},
     "output_type": "display_data"
    }
   ],
   "source": [
    "sns.distplot(rv.rvs(size=10000, random_state=0))\n",
    "plt.xlim(-8, 8)\n",
    "plt.show()"
   ]
  },
  {
   "cell_type": "markdown",
   "metadata": {},
   "source": [
    "***\n",
    "연습하기"
   ]
  },
  {
   "cell_type": "code",
   "execution_count": 11,
   "metadata": {},
   "outputs": [
    {
     "data": {
      "image/png": "[encoded data removed]",
      "text/plain": [
       "<matplotlib.figure.Figure at 0x1b049b7de10>"
      ]
     },
     "metadata": {},
     "output_type": "display_data"
    }
   ],
   "source": [
    "xx = np.linspace(-8, 8, 100)\n",
    "pdf = rv.pdf(xx)\n",
    "plt.plot(xx, pdf)\n",
    "plt.show()"
   ]
  },
  {
   "cell_type": "markdown",
   "metadata": {},
   "source": [
    "***"
   ]
  },
  {
   "cell_type": "markdown",
   "metadata": {
    "school_cell_uuid": "2f4e024e218a4050aacf63b1903efa83"
   },
   "source": [
    "# 분포의 대표값"
   ]
  },
  {
   "cell_type": "markdown",
   "metadata": {
    "school_cell_uuid": "b8490921711b4b55b6031b34a0f371be"
   },
   "source": [
    "분포(distribution)은 집합 전체의 특성을 나타내는 것이므로 히스토그램 등의 시각화 또는 분포 함수 등의 수식을 사용하는 것이 일반적이다. 하지만 전체적인 특성을 나타낼 수 있는 몇 개의 대표값을 구할 수 있다면 분포의 특성을 빠르게 파악한다거나 두 개의 분포를 서로 비교하는데 도움이 될 수 있다. "
   ]
  },
  {
   "cell_type": "markdown",
   "metadata": {
    "school_cell_uuid": "40d50609d2b744abbb1d96ac9ab00ff3"
   },
   "source": [
    "가장 먼저 생각할 수 있는 것은 분포를 하나의 숫자로 대표할 수 있는 수치, 즉 대푯값이다. \n",
    "\n",
    "대푯값으로 널리 쓰이는 것들은 다음과 같은 것을 있다.\n",
    "\n",
    "* 평균\n",
    "* 기댓값\n",
    "* 중간값"
   ]
  },
  {
   "cell_type": "markdown",
   "metadata": {},
   "source": [
    "***\n",
    "확률변수(Random Variable) $X$ -> 데이터 $\\{x\\} = x_1, x_2, x_3,...$\n",
    "***"
   ]
  },
  {
   "cell_type": "markdown",
   "metadata": {
    "school_cell_uuid": "529422eaf5c6448ab902dab896f181d2"
   },
   "source": [
    "# 샘플 평균"
   ]
  },
  {
   "cell_type": "markdown",
   "metadata": {
    "school_cell_uuid": "fc8cfa4b2d4740dda20fbea982cdefaa"
   },
   "source": [
    "우리가 보통 평균(mean, average)라고 할 때 의미하는 것은 **샘플 평균(sample mean, sample average)**을 말한다.\n",
    "\n",
    "샘플(sample)은 정확히는 이미 가지고 있는 자료 값의 집합이 어떤 확률 모형 또는 모집합으로 부터 생성된 것이라는 가정하에 부르는 용어이지만 유한한 갯수의 자료 값의 집합으로 부터 다음과 같은 식을 사용하여 계산한 값을 샘플 평균이라고 한다."
   ]
  },
  {
   "cell_type": "markdown",
   "metadata": {
    "school_cell_uuid": "d111316cc3874e23b452ce06351cc464"
   },
   "source": [
    "$$ m = \\dfrac{1}{N}\\sum_{i=1}^{N} x_i $$"
   ]
  },
  {
   "cell_type": "markdown",
   "metadata": {
    "school_cell_uuid": "b216646e5e6e490c94791fa50c6452dc"
   },
   "source": [
    "이 식에서 $N$는 자료의 갯수, $i = 1, \\cdots, N$는 자료의 순서 혹은 인덱스(index)를 뜻하고, $x_i$는 $i$번째 자료의 값을 뜻한다. "
   ]
  },
  {
   "cell_type": "markdown",
   "metadata": {
    "school_cell_uuid": "2242e52dda8a4c02a2a59c72e2513f72"
   },
   "source": [
    "이번에는 자료가 어떤 확률 분포를 따르는 확률 변수 $X$의 샘플이라고 가정하자. 이러한 경우에는 확률 변수 위에 bar를 추가하여 $\\bar{X}$와 같이 샘플 평균을 나타내기도 한다. $X_i$는 $i$번째로 실현된 샘플을 의미한다.\n",
    "\n",
    "$$ \\bar{X} = \\dfrac{1}{N}\\sum_{i=1}^{N} X_i $$\n",
    "\n",
    "\n",
    "샘플링을 한 번 해서 나온 자료 값의 집합에서 구한 샘플 평균 $\\bar{X}$이 있을 때, 샘플링을 다시 해서 또 다른 자료 값의 집합을 구하면 이 자료는 먼저 자료와 다르기 때문에 여기에서 구한 샘플 평균은 앞서 구한 샘플 평균과 갑이 달라진다. \n",
    "\n",
    "이렇게 샘플링 할 때마다 샘플 평균이 예측할 수 없는 값이 나오기 때문에 **샘플 평균 $\\bar{X}$도 하나의 확률 변수**라고 할 수 있다. 물론 이 확률 변수는 원래의 확률 변수와는 다른 분포를 가진다."
   ]
  },
  {
   "cell_type": "markdown",
   "metadata": {
    "school_cell_uuid": "bc8daa7901094bf9a861ed485e86fd50"
   },
   "source": [
    "## 확률 분포의 기댓값"
   ]
  },
  {
   "cell_type": "markdown",
   "metadata": {
    "school_cell_uuid": "719db9fdd9a14712b8d4854f6afffb60"
   },
   "source": [
    "만일 확률 변수가 따르고 있는 확률 모형, 정확히는 확률 밀도 함수를 알고 있을 경우에는 다음과 같은 수식을 사용하여 이론적인 평균을 구할 수 있다. 이러한 이론적 평균을 확률 변수의 **기댓값(expectation)**이라고 한다. 확률 모형이 존재한다는 것이 문맥상으로 확실한 경우에는 단순히 평균(mean)이라고 말하기도 한다.\n",
    "\n",
    "확률 변수의 기대값을 구하는 연산자(operator)는 영어 Expection의 첫글자를 사용하여 $\\operatorname{E}[\\cdot]$로 표기한다. 기대값은 그리스 문자 $\\mu$로 표기한다."
   ]
  },
  {
   "cell_type": "markdown",
   "metadata": {
    "school_cell_uuid": "7a7814a9c02d442c881c723e40bd63a6"
   },
   "source": [
    "$$ \\mu = \\operatorname{E}[X] = \\int_{-\\infty}^{\\infty} x f(x) dx $$"
   ]
  },
  {
   "cell_type": "markdown",
   "metadata": {
    "school_cell_uuid": "4fd897418ffa4ddd849c3c9eb88d7077"
   },
   "source": [
    "이산 확률 변수의 경우에는 다음과 같이 확률 질량 함수 $P(x)$를 사용하여 기댓값을 구한다."
   ]
  },
  {
   "cell_type": "markdown",
   "metadata": {
    "school_cell_uuid": "cba82271f1e34e6eb8af404e8ce84063"
   },
   "source": [
    "$$ \\mu = \\operatorname{E}[X] = \\sum xP(x) $$"
   ]
  },
  {
   "cell_type": "markdown",
   "metadata": {},
   "source": [
    "***\n",
    "$xP(x)$내적(가중합)\n",
    "\n",
    "$\\sum P(x근처)  x$  \n",
    "~ $\\sum x P(x)\\Delta x$\n",
    "***"
   ]
  },
  {
   "cell_type": "markdown",
   "metadata": {
    "school_cell_uuid": "67da3f948116416ba8732b22e10ade68"
   },
   "source": [
    "## 기댓값의 성질"
   ]
  },
  {
   "cell_type": "markdown",
   "metadata": {
    "school_cell_uuid": "a82586c665fc42028fc1348862aa08d6"
   },
   "source": [
    "기댓값은 확률 모형이라는 수식을 사용한 것이므로 다음과 같은 성질을 가진다는 것을 수학적으로 증명할 수 있다.\n",
    "복잡한 수식을 가지는 확률 모형의 경우에는 이러한 성질을 이용하면 기댓값을 계산하는데 도움이 된다."
   ]
  },
  {
   "cell_type": "markdown",
   "metadata": {
    "school_cell_uuid": "0a32965d863a49f49261cd845e9e908f"
   },
   "source": [
    "\n",
    "* 랜덤 변수가 아닌 고정된 값 $c$에 대해 \n",
    "$$ \\operatorname{E}[c] = c$$\n",
    "\n",
    "* 선형성\n",
    "$$\n",
    "\\begin{align}\n",
    "  \\operatorname{E}[cX]    &= c \\operatorname{E}[X] \\\\\n",
    "  \\operatorname{E}[X + Y] &=   \\operatorname{E}[X] + \\operatorname{E}[Y] \n",
    "\\end{align}\n",
    "$$\n",
    "\n"
   ]
  },
  {
   "cell_type": "markdown",
   "metadata": {},
   "source": [
    "***\n",
    "\n",
    "***"
   ]
  },
  {
   "cell_type": "markdown",
   "metadata": {
    "school_cell_uuid": "36fb735547974f65a744e7f1528b837f"
   },
   "source": [
    "## 기댓값과 샘플 평균의 관계"
   ]
  },
  {
   "cell_type": "markdown",
   "metadata": {
    "school_cell_uuid": "6024fb91b28147869ee71a07c8300727"
   },
   "source": [
    "앞서 샘플 평균도 하나의 확률 변수라고 했다. 따라서 샘플 평균에도 기댓값이 존재한다. 또한 샘플 평균의 기댓값은 원래의 확률 변수의 기댓값과 일치함을 수학적으로 증명할 수 있다."
   ]
  },
  {
   "cell_type": "markdown",
   "metadata": {
    "school_cell_uuid": "8ba9fd50a9514bfaa769fc16e832d285"
   },
   "source": [
    "$$ \\operatorname{E}[ \\bar{X} ] = \\operatorname{E}[X] $$"
   ]
  },
  {
   "cell_type": "markdown",
   "metadata": {
    "school_cell_uuid": "e6fc72e84a1e4aabbe5bfc3ad206dfb1"
   },
   "source": [
    "(증명)\n",
    "\n",
    "$$ \n",
    "\\begin{eqnarray}\n",
    "\\operatorname{E}[\\bar{X}] \n",
    "&=& \\operatorname{E}\\left[\\dfrac{1}{N}\\sum_{1}^{N}X_i \\right]  \\\\\n",
    "&=& \\dfrac{1}{N}\\sum_{1}^{N}\\operatorname{E}[X_i]  \\\\\n",
    "&=& \\dfrac{1}{N}\\sum_{1}^{N}\\operatorname{E}[X]  \\\\\n",
    "&=& \\dfrac{1}{N} N \\operatorname{E}[X] \\\\ \n",
    "&=& \\operatorname{E}[X]  \\\\\n",
    "\\end{eqnarray}\n",
    "$$"
   ]
  },
  {
   "cell_type": "markdown",
   "metadata": {
    "school_cell_uuid": "9e15ad970de24569bc0344c687240eb3"
   },
   "source": [
    "## 중앙값"
   ]
  },
  {
   "cell_type": "markdown",
   "metadata": {
    "school_cell_uuid": "e93b037d32d44e5bab16bc77277c3255"
   },
   "source": [
    "**중앙값(median)**은 전체 자료를 크기별로 정렬하였을 때 가장 중앙에 위치하게 되는 값을 말한다. 중앙값에도 샘플 중앙값과 확률 분포로부터 계산한 이론적 중앙값이 존재한다."
   ]
  },
  {
   "cell_type": "markdown",
   "metadata": {
    "school_cell_uuid": "9d6ecc0178fb4eeeb211910df79b90cb"
   },
   "source": [
    "샘플 중앙값은 몇 개의 정의가 존재하지만 많이 쓰이는 정의는 다음과 같다.\n",
    "\n",
    "전체 샘플의 갯수가 $N$인 경우,\n",
    "\n",
    "* $N$이 홀수이면: 중간값은 $(n + 1)/2$번째 샘플의 값\n",
    "* $N$이 짝수이면: 중간값은 $n/2$번째 샘플의 값과 $n/2 + 1$번째 샘플의 값의 평균"
   ]
  },
  {
   "cell_type": "markdown",
   "metadata": {
    "school_cell_uuid": "a15e774dae454d5f96a9ec2db3ecbf08"
   },
   "source": [
    "확률 분포로부터 이론적 중앙값은 그 값보다 큰 값이 나올 확률과 작은 값이 나올 확률이 동일하게 0.5이여야 하므로 다음과 같이 누적 확률 분포 $F(x)$에서 계산할 수 있다.\n",
    "\n",
    "$$ \\text{median} = F^{-1}(0.5) $$\n",
    "\n",
    "$$ 0.5 = F(\\text{median}) $$\n"
   ]
  },
  {
   "cell_type": "markdown",
   "metadata": {
    "school_cell_uuid": "64a0832828c842d0a4d4dc4e04351efb"
   },
   "source": [
    "## 최빈값"
   ]
  },
  {
   "cell_type": "markdown",
   "metadata": {
    "school_cell_uuid": "e8e89146ba114ffeb2fa00d3b88f29db"
   },
   "source": [
    "최빈값(mode)은 직역하자면 가장 빈번하게 나올 수 있는 값을 말한다. 하지만 연속 확률 분포인 경우에는 어느 값에 대해서나 특정한 값이 나올 확률은 0(zero)이므로 다음과 같이 확률 밀도 함수의 값이 가장 큰 확률 변수의 값으로 정의한다. 즉, 확률 밀도 함수의 최댓값의 위치이다.\n",
    "\n",
    "$$ \\text{mode} = \\arg \\max_x f(x) $$"
   ]
  },
  {
   "cell_type": "markdown",
   "metadata": {
    "school_cell_uuid": "28176ec657b847eaa49c26980dbf4f71"
   },
   "source": [
    "이산 샘플 자료에 대해서는 최빈값을 구할 수 있으나 연속 샘플 자료는 최빈값이 존재하지 않거나 의미가 없기 때문에 히스토그램과 같이 구간을 분할하여 각 구간의 대표값으로 카테고리화하여 최빈값의 근사값을 구해야 한다."
   ]
  },
  {
   "cell_type": "markdown",
   "metadata": {},
   "source": [
    "***\n",
    "실수값인 경우 최반값을 구할 수 없다. 카테고리인경우 가능.  \n",
    "샘플최빈값은 존재하지 않음. 이론공간에서만 존재\n",
    "\n",
    "일반인들이 확률을 알려달라고 하는경우 기대값을 의미하기보다는 최빈값을 의미하는경우가 많다.\n",
    "***"
   ]
  },
  {
   "cell_type": "markdown",
   "metadata": {
    "school_cell_uuid": "b53a79c0587e4cd1a485ceeb22e4e718"
   },
   "source": [
    "## 기댓값, 중앙값, 최빈값의 비교"
   ]
  },
  {
   "cell_type": "markdown",
   "metadata": {
    "school_cell_uuid": "65d6c1825d1d4577a5c211e3c86d808b"
   },
   "source": [
    "확률 분포 즉, 확률 밀도 함수가 대칭인 경우에는 기댓값, 중앙값, 최빈값이 모두 같다. 그러나 분포가 어느 한쪽으로 찌그러진(skewed) 경우에는 다음 그림과 같이 달라질 수 있다.\n",
    "\n",
    "계산량으로 비교하면 기댓값이 가장 계산하기 쉽고 중앙값은 계산량이 기댓값보다 증가하며 최빈값은 최적화 과정을 통해서만 구할 수 있으므로 계산량이 가장 많으며 오차가 크다.\n",
    "\n",
    "그러나 기댓값은 이상값(outliner)이나 한쪽으로 찌그러진 상태에 큰 영향을 받지만 중앙값이나 최빈값은 이에 대한 영향이 적다는 장점이 있다."
   ]
  },
  {
   "cell_type": "markdown",
   "metadata": {
    "school_cell_uuid": "39f977f95acb49bd83a53c6562eb71f7"
   },
   "source": [
    "<img src=\"https://datascienceschool.net/upfiles/dd06ed356a03475cbe9cc14909be96d1.jpeg\" style=\"width: 100%;\">"
   ]
  },
  {
   "cell_type": "markdown",
   "metadata": {
    "school_cell_uuid": "471ab0b0a357480db123e58e2e8fea55"
   },
   "source": [
    "## Python을 사용한 계산"
   ]
  },
  {
   "cell_type": "markdown",
   "metadata": {
    "school_cell_uuid": "712c83cb58f64c188cafe03dbef5782b"
   },
   "source": [
    "Python에서는 다음과 같은 numpy 함수를 사용하여 계산할 수 있다.\n",
    "\n",
    "* [`mean()`](http://docs.scipy.org/doc/numpy/reference/generated/numpy.mean.html)\n",
    "* [`nanmean()`](http://docs.scipy.org/doc/numpy/reference/generated/numpy.nanmean.html)\n",
    "* [`median()`](http://docs.scipy.org/doc/numpy/reference/generated/numpy.median.html)\n",
    "* [`argmax()`](http://docs.scipy.org/doc/numpy/reference/generated/numpy.argmax.html)\n",
    "* [`histogram()`](http://docs.scipy.org/doc/numpy/reference/generated/numpy.histogram.html)"
   ]
  },
  {
   "cell_type": "code",
   "execution_count": 10,
   "metadata": {
    "collapsed": true,
    "school_cell_uuid": "d4dfb4f4745148b590e2fdf43109d125"
   },
   "outputs": [],
   "source": [
    "np.random.seed(0)\n",
    "x = np.random.normal(size=1000)"
   ]
  },
  {
   "cell_type": "code",
   "execution_count": 11,
   "metadata": {
    "school_cell_uuid": "b9c8e344804f479a94ccb02f53a9c4c6"
   },
   "outputs": [
    {
     "data": {
      "text/plain": [
       "(-0.045256707490195384, -0.058028034799627745)"
      ]
     },
     "execution_count": 11,
     "metadata": {},
     "output_type": "execute_result"
    }
   ],
   "source": [
    "np.mean(x), np.median(x)"
   ]
  },
  {
   "cell_type": "code",
   "execution_count": 12,
   "metadata": {
    "collapsed": true,
    "school_cell_uuid": "9e73d4cd3cdc470b825ac405d71edac3"
   },
   "outputs": [],
   "source": [
    "ns, bins = np.histogram(x, bins=np.linspace(-10,10,20))"
   ]
  },
  {
   "cell_type": "code",
   "execution_count": 13,
   "metadata": {
    "school_cell_uuid": "6c326e483ca84464a41bf2b36e93c9be"
   },
   "outputs": [
    {
     "data": {
      "text/plain": [
       "(-0.52631578947368496, 0.52631578947368318)"
      ]
     },
     "execution_count": 13,
     "metadata": {},
     "output_type": "execute_result"
    }
   ],
   "source": [
    "M = np.argmax(ns)\n",
    "bins[M], bins[M+1]"
   ]
  },
  {
   "cell_type": "markdown",
   "metadata": {
    "school_cell_uuid": "a323b0c6f0fe43f98484c69a3aa1f7b8"
   },
   "source": [
    "기술 통계 방법으로 Scipy나 Pandas를 사용하여 구하는 방법은 다음 노트북을 참조한다."
   ]
  },
  {
   "cell_type": "markdown",
   "metadata": {
    "school_cell_uuid": "5932e8e431fa4e70acfb7c19ecde8058"
   },
   "source": [
    "[☞파이썬으로 데이터 분포 살펴보기](https://datascienceschool.net/view-notebook/69b85ec9afb7415d8da4c8cd5e46d22e/ \"파이썬으로 데이터 분포 살펴보기\")"
   ]
  },
  {
   "cell_type": "markdown",
   "metadata": {
    "school_cell_uuid": "bd4eaf61c1334164ba09d6a018d2b7b2"
   },
   "source": [
    "# 분산과 표준편차"
   ]
  },
  {
   "cell_type": "markdown",
   "metadata": {
    "school_cell_uuid": "e5a15a837b0f4a8abba276548571eff8"
   },
   "source": [
    "샘플 자료의 분포나 확률 분포를 묘사하는 가장 대표적인 값은 평균 혹은 기댓값이다. 이에 대한 자세한 내용은 다음 노트북을 참조한다."
   ]
  },
  {
   "cell_type": "markdown",
   "metadata": {
    "school_cell_uuid": "961670976cfc4a58b829d3443d2d3ff4"
   },
   "source": [
    "[☞분포의 대표값](https://datascienceschool.net/view-notebook/dd6a7633d69f401bb00409b9ae8806e8/ \"분포의 대표값\")"
   ]
  },
  {
   "cell_type": "markdown",
   "metadata": {
    "school_cell_uuid": "277f3c29e8954ce7a2ed6c38ef9c854d"
   },
   "source": [
    "이와 함께 많이 쓰이는 대표값은 분산(variance) 또는 표준편차(standard deviation)이다. 평균이나 기댓값이 분포의 모양에서 위치를 대표하는 것이라면 분산은 분포의 폭(width)을 대표하는 값이다. 표준 편차는 분산에 대한 양의 제곱근(square root)값이다.\n",
    "\n",
    "$$ \\text{표준 편차} = \\sqrt{\\text{분산}} $$"
   ]
  },
  {
   "cell_type": "markdown",
   "metadata": {
    "school_cell_uuid": "4933afaa1d6f4c348abc73103658491b"
   },
   "source": [
    "분산도 평균과 마찬가지로 자료 값 집합에 대한 샘플 분산과 확률 분포에 대한 분산을 정의할 수 있다."
   ]
  },
  {
   "cell_type": "markdown",
   "metadata": {
    "school_cell_uuid": "3677ae2a36c741ee9733ac13c963924b"
   },
   "source": [
    "## 샘플 분산"
   ]
  },
  {
   "cell_type": "markdown",
   "metadata": {
    "school_cell_uuid": "52e9285fa12a4385bfcda702dfed3de2"
   },
   "source": [
    "샘플 분산은 주어진 자료 값의 집합에서 다음과 같은 식으로 구한다. 식에서 $x_i$는 $N$개의 자료 중 $i$번재의 자료를 나타내고 $m$은 샘플 평균이다.\n",
    "\n",
    "$$ s^2 = \\dfrac{1}{N}\\sum_{i=1}^{N} (x_i-m)^2 $$"
   ]
  },
  {
   "cell_type": "code",
   "execution_count": 146,
   "metadata": {
    "hidden": "input",
    "school_cell_uuid": "a0a18ad48992461d9b3ecc4f8e00f2e5"
   },
   "outputs": [
    {
     "data": {
      "image/png": "[encoded data removed]"
     },
     "metadata": {},
     "output_type": "display_data"
    }
   ],
   "source": [
    "%%tikz -p pgfplots,pgffor -s 600,300\n",
    "\\begin{axis}[hide axis, width=400pt, height=200pt, line width=2pt, ymax=0.25]\n",
    "\\addplot[domain=-1:4,samples=100]{exp(-(x-0)^2 / (2^2)) / (2 * sqrt(2*pi))};\n",
    "\\foreach \\x in {-0.7, -0.5, -0.35, -0.21, -0.11, 0, 0.14, 0.19, 0.3, 0.5, 0.8, 1.0, 1.5, 1.9, 2.4} {\n",
    "  \\edef\\temp{\\noexpand\\fill (axis cs:\\x, 0.02) circle (3pt);}\\temp\n",
    "}\n",
    "\\node at (axis cs:0,0.23) {$m$};\n",
    "\\draw[line width=1pt, dashed](axis cs:0,-0.1) -- (axis cs:0,0.22);\n",
    "\\node at (axis cs:1,0.11) {$x_i$};\n",
    "\\draw[line width=1pt, dashed](axis cs:1,-0.1) -- (axis cs:1,0.1);\n",
    "\\draw[line width=1pt, <->](axis cs:0,0.05) -- (axis cs:1,0.05);\n",
    "\\end{axis}"
   ]
  },
  {
   "cell_type": "markdown",
   "metadata": {
    "school_cell_uuid": "0ece8696e18d478391432b3993872044"
   },
   "source": [
    "위의 그림에서 볼 수 있듯이 이 식은 자료값과 평균 사이의 거리를 의미한다. 다만 자료값이 평균보다 작을 때는 음수가 나오므로 제곱을 하여 모두 양수로 만들어 준 것이다. "
   ]
  },
  {
   "cell_type": "markdown",
   "metadata": {
    "school_cell_uuid": "1f5050a0728b42de96be9ce1bb7d47ed"
   },
   "source": [
    "위 식에서 구한 샘플 분산은 정확하게 말하면 편향 오차를 가진 편향 샘플 분산(biased sample variance)이다. 이와 대조되는 비편향 샘플 분산은 다음과 같이 구한다.\n",
    "\n",
    "$$ s^2_{\\text{unbiased}} = \\dfrac{1}{N-1}\\sum_{i=1}^{N} (x_i-m)^2 $$"
   ]
  },
  {
   "cell_type": "markdown",
   "metadata": {
    "school_cell_uuid": "77355281e5ca4147971226160f76c7f0"
   },
   "source": [
    "샘플 분산의 편향 오차에 대해서는 확률 분포의 분산과 같이 이후에 다룬다."
   ]
  },
  {
   "cell_type": "markdown",
   "metadata": {
    "school_cell_uuid": "8b2288c509f04468ab891f98559dc815"
   },
   "source": [
    "## 확률 분포의 분산"
   ]
  },
  {
   "cell_type": "markdown",
   "metadata": {
    "school_cell_uuid": "23baf74ed3a249e1abd75cdc25d6961d"
   },
   "source": [
    "확률 분포는 확률 밀도 함수 $f(x)$로 분포 전체의 모양을 정확하게 정의할 수 있으므로 다음과 같이 이론적인 분산을 구할 수 있다.\n",
    "\n",
    "분산을 구하는 연산자는 영어 Variance를 따서 $\\text{Var}[\\cdot]$로 표기하고 분산은 $\\sigma^2$으로 표기한다.\n",
    "\n",
    "$$ \\sigma^2 = \\text{Var}[X] = \\text{E}[(X - \\mu)^2] = \\int_{-\\infty}^{\\infty} (x - \\mu)^2 f(x)dx$$"
   ]
  },
  {
   "cell_type": "markdown",
   "metadata": {
    "school_cell_uuid": "0de91e0e69b440528295c75a9d114b20"
   },
   "source": [
    "이산 확률 변수의 경우에는 다음과 같이 확률 질량 함수 $P(x)$를 사용하여 분산을 구한다.\n",
    "\n",
    "$$ \\sigma^2 = \\sum (x - \\mu)^2 P(x)$$"
   ]
  },
  {
   "cell_type": "markdown",
   "metadata": {
    "school_cell_uuid": "83122e7d28614c6da0e6aea9248fd65d"
   },
   "source": [
    "## 분산의 성질"
   ]
  },
  {
   "cell_type": "markdown",
   "metadata": {
    "school_cell_uuid": "f07c23283f4042ae8fbfa3a1e77e5fb4"
   },
   "source": [
    "분산은 다음과 같은 성질을 만족한다.\n",
    "\n",
    "\n",
    "* 0 또는 양수\n",
    "$$ \\text{Var}[X] \\geq 0 $$\n",
    "\n",
    "* 랜덤 변수가 아닌 고정된 값 $c$에 대해 \n",
    "$$ \\text{Var}[c] = 0 $$\n",
    "$$ \\text{Var}[cX] = c^2 \\text{Var}[X] $$\n"
   ]
  },
  {
   "cell_type": "markdown",
   "metadata": {
    "school_cell_uuid": "a37af451f57146e3a3777415e8f14d93"
   },
   "source": [
    "또한 기댓값의 성질을 이용하여 다음 성질을 증명할 수 있다.\n",
    "\n",
    "$$ \\text{Var}[X] = \\text{E}[X^2] - (\\text{E}[X])^2  = \\text{E}[X^2] - \\mu^2$$"
   ]
  },
  {
   "cell_type": "markdown",
   "metadata": {
    "school_cell_uuid": "89a376f431b7478b973507cbf7e0ba2f"
   },
   "source": [
    "(증명)\n",
    "\n",
    "$$ \n",
    "\\begin{eqnarray}\n",
    "\\text{Var}[X] \n",
    "&=& \\text{E}[(X - \\mu)^2] \\\\\n",
    "&=& \\text{E}[X^2 - 2\\mu X + \\mu^2] \\\\\n",
    "&=& \\text{E}[X^2] - 2\\mu\\text{E}[X] + \\mu^2 \\\\\n",
    "&=& \\text{E}[X^2] - 2\\mu^2 + \\mu^2 \\\\\n",
    "&=& \\text{E}[X^2] - \\mu^2\\\\\n",
    "\\end{eqnarray}\n",
    "$$"
   ]
  },
  {
   "cell_type": "markdown",
   "metadata": {},
   "source": [
    "## 독립인 두 확률 변수의 분산"
   ]
  },
  {
   "cell_type": "markdown",
   "metadata": {},
   "source": [
    "두 확률 변수 $X$, $Y$가 서로 독립이면 다음과 같은식이 성립한다. 확률 변수가 독립이라는 것은 서로 영향을 미치지 않는 것을 의미하며 구체적인 정의는 다음에 설명하기로 한다.\n",
    "$$ \\text{E}\\left[ (X-\\mu_X)(Y-\\mu_Y) \\right] = 0 $$\n",
    "$$\\text{Var}[X+Y]=\\text{Var}[X]+\\text{Var}[Y]$$"
   ]
  },
  {
   "cell_type": "markdown",
   "metadata": {
    "school_cell_uuid": "c5156a8067dc448590e6b3f521ab93b1"
   },
   "source": [
    "## 샘플 평균의 분산"
   ]
  },
  {
   "cell_type": "markdown",
   "metadata": {
    "school_cell_uuid": "58f2af857cd440a6834d62be5c5ee982"
   },
   "source": [
    "확률 변수 $X$의 샘플 평균 $\\bar{X}$도 일종의 확률 변수이고 그 기댓값 $\\text{E}[\\bar{X}]$은 원래 확률 변수 $X$의 기댓값 $\\text{E}[{X}]$과 일치한다는 것을 아래의 노트북에서 증명한 적이 있다.\n",
    "\n",
    "$$ \\text{E}[\\bar{X}] = \\text{E}[{X}]$$"
   ]
  },
  {
   "cell_type": "markdown",
   "metadata": {
    "school_cell_uuid": "286300d7dff244cdb713401e3d9e6d8a"
   },
   "source": [
    "[☞분포의 대표값](https://datascienceschool.net/view-notebook/dd6a7633d69f401bb00409b9ae8806e8/ \"분포의 대표값\")"
   ]
  },
  {
   "cell_type": "markdown",
   "metadata": {
    "school_cell_uuid": "9c4b8017179b4a3c9e5ef7f212932cb4"
   },
   "source": [
    "그럼 샘플 평균$\\bar{X}$의 분산 $\\text{Var}[\\bar{X}]$은 원래 확률 변수 $X$의 분산 $\\text{Var}[{X}]$과 어떤 관계가 있을까?\n",
    "\n",
    "우선 개별 샘플에 대한 확률 변수 $X_i$가 서로 독립이라고 가정하자\n",
    "\n",
    "$$ \\text{E}\\left[ (X_i-\\mu)(X_j-\\mu) \\right] = 0 \\;\\; \\text{ if i $\\neq$ j} $$\n",
    "\n",
    "또한 개별 샘플에 대한 확률 변수 $X_i$의 기댓값과 분산은 원래 확률 변수 $X$와 같다."
   ]
  },
  {
   "cell_type": "markdown",
   "metadata": {},
   "source": [
    "***\n",
    "서로 독립이면 공분산은 0이 된다.\n",
    "***"
   ]
  },
  {
   "cell_type": "markdown",
   "metadata": {
    "school_cell_uuid": "16d27553e8dc4cb0b599cc2b298e2073"
   },
   "source": [
    "두 분산 사이에는 다음과 같은 관계가 있음을 증명할 수 있다.\n",
    "\n",
    "\n",
    "$$ \n",
    "\\begin{eqnarray}\n",
    "\\text{Var}[\\bar{X}] \n",
    "&=& \\text{Var} \\left[ \\dfrac{1}{N} \\sum_{i=1}^N X_i \\right] \\\\\n",
    "&=& \\text{E} \\left[ \\left( \\dfrac{1}{N} \\sum_{i=1}^N X_i - \\mu \\right)^2 \\right] \\\\\n",
    "&=& \\text{E} \\left[ \\left( \\dfrac{1}{N} \\sum_{i=1}^N (X_i - \\mu) \\right)^2 \\right] \\\\\n",
    "&=& \\text{E} \\left[ \\dfrac{1}{N^2} \\sum_{i=1}^N \\sum_{j=1}^N (X_i - \\mu) (X_j - \\mu)  \\right] \\\\\n",
    "&=& \\text{E} \\left[ \\dfrac{1}{N^2} \\sum_{i=1}^N (X_i - \\mu)^2 \\right] \\\\\n",
    "&=& \\text{E} \\left[ \\dfrac{1}{N} (X - \\mu)^2 \\right] \\\\\n",
    "&=& \\dfrac{1}{N} \\text{Var}[X] = \\dfrac{\\sigma^2}{N}\n",
    "\\end{eqnarray}\n",
    "$$ \n",
    "\n",
    "확률 변수의 독립에 관한 내용은 다음 노트북을 참조한다."
   ]
  },
  {
   "cell_type": "markdown",
   "metadata": {
    "school_cell_uuid": "dba6af675b2c40d1b116d4dfbb9d876f"
   },
   "source": [
    "[☞결합, 주변, 조건부 확률 밀도 함수 (파이썬 버전)](https://datascienceschool.net/view-notebook/e08074f293144eeca9cc7251b5d5666c/ \"결합, 주변, 조건부 확률 밀도 함수 (파이썬 버전)\")"
   ]
  },
  {
   "cell_type": "markdown",
   "metadata": {
    "school_cell_uuid": "1957b879b822484daeefbb53e8215c7a"
   },
   "source": [
    "샘플 분산 $s^2$의 기대값을 구하면 다음과 같이 이론적인 분산  $\\sigma^2$의 $\\dfrac{N - 1}{N}$ 배임을 알 수 있다.\n",
    "\n",
    "$$ \n",
    "\\begin{eqnarray}\n",
    "\\text{E}[s^2] \n",
    "&=& \\text{E} \\left[ \\dfrac{1}{N}\\sum_{i=1}^N (X_i - \\bar{X})^2 \\right] \n",
    "= \\text{E} \\left[ \\dfrac{1}{N}\\sum_{i=1}^N \\left\\{ (X_i -\\mu) - (\\bar{X} - \\mu) \\right \\}^2  \\right] \\\\\n",
    "&=& \\text{E} \\left[ \\dfrac{1}{N}\\sum_{i=1}^N \\left\\{ (X_i -\\mu)^2 - 2 (X_i -\\mu)(\\bar{X} - \\mu) +  (\\bar{X} - \\mu)^2 \\right \\}  \\right] \\\\\n",
    "&=&  \\text{E} \\left[ \\dfrac{1}{N} \\sum_{i=1}^N (X_i -\\mu)^2 \\right] \n",
    "  - 2 \\text{E} \\left[ { \\dfrac{1}{N} \\sum_{i=1}^N (X_i -\\mu)(\\bar{X} - \\mu) } \\right] \n",
    "  +  \\text{E} \\left[ { \\dfrac{1}{N} \\sum_{i=1}^N (\\bar{X} - \\mu)^2 } \\right] \n",
    "\\end{eqnarray} \n",
    "$$\n",
    "\n",
    "이 때\n",
    "$$ \\text{E} \\left[ \\dfrac{1}{N} \\sum_{i=1}^N (X_i -\\mu)^2 \\right] = \\text{Var}[X] = \\sigma^2 $$ \n",
    "\n",
    "$$\n",
    "\\begin{eqnarray}\n",
    "\\text{E} \\left[ { \\dfrac{1}{N} \\sum_{i=1}^N (X_i -\\mu)(\\bar{X} - \\mu) } \\right] \n",
    "&=& \\text{E} \\left[ { \\dfrac{1}{N} \\sum_{i=1}^N (X_i -\\mu) \\left( \\dfrac{1}{N} \\sum_{j=1}^N X_j - \\mu \\right) } \\right]  \\\\\n",
    "&=& \\text{E} \\left[ { \\dfrac{1}{N} \\sum_{i=1}^N (X_i -\\mu) \\left( \\dfrac{1}{N} \\sum_{j=1}^N ( X_j - \\mu ) \\right) } \\right]  \\\\\n",
    "&=& \\text{E} \\left[ { \\dfrac{1}{N^2} \\sum_{i=1}^N \\sum_{j=1}^N (X_i -\\mu)  ( X_j - \\mu )} \\right]  \\\\\n",
    "&=& \\dfrac{1}{N} \\text{Var}[X] = \\dfrac{\\sigma^2}{N}\n",
    "\\end{eqnarray} \n",
    "$$\n",
    "\n",
    "$$\n",
    "\\text{E} \\left[ { \\dfrac{1}{N} \\sum_{i=1}^N (\\bar{X} - \\mu)^2 } \\right] = \\dfrac{1}{N} \\text{Var}[X] = \\dfrac{\\sigma^2}{N}\n",
    "$$\n",
    "\n",
    "따라서\n",
    "\n",
    "$$\n",
    "\\text{E}[s^2] = \\sigma^2 - \\dfrac{2\\sigma^2}{N} + \\dfrac{\\sigma^2}{N} = \\dfrac{N-1}{N}\\sigma^2 \n",
    "$$"
   ]
  },
  {
   "cell_type": "markdown",
   "metadata": {
    "school_cell_uuid": "8169a2a6baa54fa781d7f28c6a7a5f1f"
   },
   "source": [
    "따라서 샘플 분산의 기대값이 정확하게 $\\sigma^2$이 되려면 분모가 $N$이 아니라 $N-1$이 되어야 한다.\n",
    "\n",
    "$$\n",
    "\\sigma^2 \n",
    "= \\dfrac{N}{N-1} \\text{E}[s^2] \n",
    "= \\dfrac{N}{N-1} \\text{E} \\left[ \\dfrac{1}{N} \\sum (X_i-\\bar{X})^2 \\right] \n",
    "= \\text{E} \\left[ \\dfrac{1}{N-1} \\sum (X_i-\\bar{X})^2 \\right] \n",
    "= \\text{E} \\left[ s^2_{\\text{unbiased}} \\right] \n",
    "$$"
   ]
  },
  {
   "cell_type": "markdown",
   "metadata": {
    "school_cell_uuid": "d3cd4e4fa7cf42bbb443543e9d80df9b"
   },
   "source": [
    "## Python을 사용한 계산"
   ]
  },
  {
   "cell_type": "markdown",
   "metadata": {
    "school_cell_uuid": "bfc7a99dd6434910b372bbaaab4bf991"
   },
   "source": [
    "Python에서 샘플 분산과 샘플 표준 편차는 numpy의 다음 함수들을 사용한다.\n",
    "\n",
    "* [`var()`](https://docs.scipy.org/doc/numpy/reference/generated/numpy.var.html)\n",
    "* [`std()`](https://docs.scipy.org/doc/numpy/reference/generated/numpy.std.html)\n",
    "* [`nanvar()`](https://docs.scipy.org/doc/numpy/reference/generated/numpy.nanvar.html)\n",
    "* [`nanstd()`](https://docs.scipy.org/doc/numpy/reference/generated/numpy.nanstd.html)"
   ]
  },
  {
   "cell_type": "code",
   "execution_count": 157,
   "metadata": {
    "collapsed": true,
    "school_cell_uuid": "26ad1a98533640bc9274215f0c927284"
   },
   "outputs": [],
   "source": [
    "sp.random.seed(0)\n",
    "x = sp.stats.norm(0, 2).rvs(1000)  # mean=0, standard deviation=2"
   ]
  },
  {
   "cell_type": "code",
   "execution_count": 158,
   "metadata": {
    "school_cell_uuid": "4d301ef71ead4525ac14a453a1e52aff"
   },
   "outputs": [
    {
     "data": {
      "text/plain": [
       "3.8969378252486169"
      ]
     },
     "execution_count": 158,
     "metadata": {},
     "output_type": "execute_result"
    }
   ],
   "source": [
    "np.var(x)"
   ]
  },
  {
   "cell_type": "code",
   "execution_count": 160,
   "metadata": {
    "school_cell_uuid": "ab251cff5c04432c9b49593590e13fa2",
    "scrolled": true
   },
   "outputs": [
    {
     "data": {
      "text/plain": [
       "3.9008386639125292"
      ]
     },
     "execution_count": 160,
     "metadata": {},
     "output_type": "execute_result"
    }
   ],
   "source": [
    "np.var(x, ddof=1)  # unbiased variance"
   ]
  },
  {
   "cell_type": "markdown",
   "metadata": {
    "school_cell_uuid": "e93e0041c5274752917fe464c55ad7c0"
   },
   "source": [
    "# 베르누이 확률 분포"
   ]
  },
  {
   "cell_type": "markdown",
   "metadata": {
    "school_cell_uuid": "30407c41366c41ada01fccac76331693"
   },
   "source": [
    "## 베르누이 시도"
   ]
  },
  {
   "cell_type": "markdown",
   "metadata": {
    "school_cell_uuid": "882d5232066b4ae79794e74d6ea1a614"
   },
   "source": [
    "결과가 성공(Success) 혹은 실패(Fail) 두 가지 중 하나로만 나오는 것을 **베르누이 시도**(Bernoulli trial)라고 한다. 예를 들어 동전을 한 번 던져 앞면(H:Head)이 나오거나 뒷면(T:Tail)이 나오게 하는 것은 베르누이 시도의 일종이다."
   ]
  },
  {
   "cell_type": "markdown",
   "metadata": {
    "school_cell_uuid": "18c7638f3569475c9cef11e3e7588856"
   },
   "source": [
    "베르누이 시도의 결과를 확률 변수(random variable) $X$ 로 나타낼 때는 일반적으로 성공을 정수 1 ($X=1$), 실패를 정수 0 ($X=0$)으로 정한다. 때로는  실패를 0 이 아닌 -1($X=-1$)로 정하는 경우도 있다."
   ]
  },
  {
   "cell_type": "markdown",
   "metadata": {
    "school_cell_uuid": "250191a82f7840908f446e7644a6d59d"
   },
   "source": [
    "## 베르누이 분포"
   ]
  },
  {
   "cell_type": "markdown",
   "metadata": {
    "school_cell_uuid": "a5517b52891a48268a4181dc463e21b0"
   },
   "source": [
    "베르누이 확률 변수는 0, 1 두 가지 값 중 하나만 가질 수 있으므로 이산 확률 변수(discrete random variable)이다. 따라서 확률 질량 함수(pmf: probability mass function)로 정의할 수 있다. "
   ]
  },
  {
   "cell_type": "markdown",
   "metadata": {
    "school_cell_uuid": "5e9a75eb53d44fd49b98a99dc88632ae"
   },
   "source": [
    "베르누이 확률 분포의 확률 질량 함수는 다음과 같다.\n",
    "\n",
    "$$\n",
    "\\text{Bern}(x;\\theta) = \n",
    "\\begin{cases} \n",
    "\\theta   & \\text{if }x=1, \\\\\n",
    "1-\\theta & \\text{if }x=0\n",
    "\\end{cases}\n",
    "$$\n",
    "\n",
    "베르누이 확률 변수는 **1이 나올 확률**을 의미하는 $\\theta$라는 하나의 모수를 가진다. 변수와 모수는 세미콜론(;, semi-colone)기호로 분리하였다. 0이 나올 확률은 $1 - \\theta$이다."
   ]
  },
  {
   "cell_type": "markdown",
   "metadata": {
    "school_cell_uuid": "136b92efdfe04e629118d5341e0fb654"
   },
   "source": [
    "위 식을 하나의 수식으로 표현하면 다음과 같이 쓸 수도 있다.\n",
    "\n",
    "$$\n",
    "\\text{Bern}(x;\\theta) = \\theta^x(1-\\theta)^{(1-x)}\n",
    "$$"
   ]
  },
  {
   "cell_type": "markdown",
   "metadata": {
    "bootstrap": {
     "panel": {
      "class": "panel-default"
     }
    },
    "school_cell_uuid": "edbe2272d887461f89a7e96d4ad76cb7"
   },
   "source": [
    "#### 연습 문제 1\n",
    "\n",
    "위 식에서 $x=1$과 $x=0$을 각각 대입하여 원래의 확률 질량 함수 식이 나오는 것을 확인한다."
   ]
  },
  {
   "cell_type": "markdown",
   "metadata": {
    "school_cell_uuid": "5f903b6f8bb144d082dbe2f8382efcbc"
   },
   "source": [
    "만약 베르누이 확률 변수가 1과 -1이라는 값을 가진다면 다음과 같은 수식으로 써야 한다.\n",
    "\n",
    "$$ \\text{Bern}(x; \\theta) = \\theta^{(1+x)/2} (1-\\theta)^{(1-x)/2} $$"
   ]
  },
  {
   "cell_type": "markdown",
   "metadata": {
    "school_cell_uuid": "a6873ff37c6347f09654e8f307f933cc"
   },
   "source": [
    "만약 어떤 확률 변수 $X$가 베르누이 분포에 의해 발생된다면 **\"확률 변수 $X$가 베르누이 분포를 따른다\"**라고 말하고 다음과 같이 수식으로 쓴다.\n",
    "\n",
    "$$ X \\sim \\text{Bern}(x;\\theta) $$"
   ]
  },
  {
   "cell_type": "markdown",
   "metadata": {
    "school_cell_uuid": "285f0507b9de4c9688eff39c15c3b052"
   },
   "source": [
    "## SciPy를 사용한 베르누이 분포의 시뮬레이션"
   ]
  },
  {
   "cell_type": "markdown",
   "metadata": {
    "school_cell_uuid": "e22672364e2b4166a2cd6a2b1878c10d"
   },
   "source": [
    "Scipy의 stats 서브 패키지에 있는 `bernoulli` 클래스가 베르누이 확률 분포를 위한 클래스다. `p` 인수로 분포의 모수 $\\theta$을 설정한다. \n",
    "\n",
    "다음 예에서는 p = 0.6 으로 설정하였다."
   ]
  },
  {
   "cell_type": "code",
   "execution_count": 13,
   "metadata": {
    "collapsed": true,
    "school_cell_uuid": "b3a5173b4dfe413b8d07dc821986ca4a"
   },
   "outputs": [],
   "source": [
    "theta = 0.6\n",
    "rv = sp.stats.bernoulli(theta)"
   ]
  },
  {
   "cell_type": "markdown",
   "metadata": {
    "school_cell_uuid": "c6e3680ac7cf4f6d98697c5c30be915a"
   },
   "source": [
    "`pmf` 메서드를 사용하면 확률 질량 함수(pmf: probability mass function)를 계산할 수 있다."
   ]
  },
  {
   "cell_type": "code",
   "execution_count": 14,
   "metadata": {
    "school_cell_uuid": "d63c353b1a60485cb79ece27118a2461"
   },
   "outputs": [
    {
     "data": {
      "image/png": "[encoded data removed]",
      "text/plain": [
       "<matplotlib.figure.Figure at 0x1b0498f2160>"
      ]
     },
     "metadata": {},
     "output_type": "display_data"
    }
   ],
   "source": [
    "xx = [0, 1]\n",
    "plt.bar(xx, rv.pmf(xx), align=\"center\")\n",
    "plt.xlim(-1, 2)\n",
    "plt.ylim(0, 1)\n",
    "plt.xticks([0, 1], [\"X=0\", \"X=1\"])\n",
    "plt.ylabel(\"P(x)\")\n",
    "plt.title(\"pmf of Bernoulli distribution\")\n",
    "plt.show()"
   ]
  },
  {
   "cell_type": "markdown",
   "metadata": {
    "school_cell_uuid": "c4082c2296a5430285e11848c865141c"
   },
   "source": [
    "시뮬레이션을 하려면 `rvs` 메서드를 사용한다."
   ]
  },
  {
   "cell_type": "code",
   "execution_count": 15,
   "metadata": {
    "school_cell_uuid": "f114e4f1e33c4a79a60a88f092e2d226"
   },
   "outputs": [
    {
     "data": {
      "text/plain": [
       "array([1, 0, 0, 1, 1, 0, 1, 0, 0, 1, 0, 1, 1, 0, 1, 1, 1, 0, 0, 0, 0, 0, 1,\n",
       "       0, 1, 0, 1, 0, 1, 1, 1, 0, 1, 1, 1, 0, 0, 0, 0, 0, 1, 1, 0, 1, 0, 0,\n",
       "       1, 1, 1, 1, 1, 1, 0, 1, 1, 1, 0, 1, 1, 1, 1, 1, 0, 1, 1, 1, 0, 1, 0,\n",
       "       1, 0, 1, 0, 0, 0, 1, 1, 1, 1, 1, 1, 1, 1, 0, 1, 1, 1, 1, 1, 0, 1, 0,\n",
       "       1, 0, 1, 1, 1, 1, 0, 1])"
      ]
     },
     "execution_count": 15,
     "metadata": {},
     "output_type": "execute_result"
    }
   ],
   "source": [
    "x = rv.rvs(100, random_state=0)\n",
    "x"
   ]
  },
  {
   "cell_type": "markdown",
   "metadata": {
    "school_cell_uuid": "5ef7a29fec90424a9b97d9a545baeb0d"
   },
   "source": [
    "결과를 seaborn의 `countplot` 명령으로 시각화한다."
   ]
  },
  {
   "cell_type": "code",
   "execution_count": 16,
   "metadata": {
    "school_cell_uuid": "06e3372c8c224706969ec3858da4701f"
   },
   "outputs": [
    {
     "data": {
      "image/png": "[encoded data removed]",
      "text/plain": [
       "<matplotlib.figure.Figure at 0x1b049b7dfd0>"
      ]
     },
     "metadata": {},
     "output_type": "display_data"
    }
   ],
   "source": [
    "sns.countplot(x)\n",
    "plt.show()"
   ]
  },
  {
   "cell_type": "markdown",
   "metadata": {
    "school_cell_uuid": "cfaf4129cccd4453b41ef4b4ddca9ac4"
   },
   "source": [
    "이론적인 확률 분포와 샘플의 확률 분포를 동시에 나타내려면 다음과 같은 코드를 사용한다."
   ]
  },
  {
   "cell_type": "code",
   "execution_count": 17,
   "metadata": {
    "school_cell_uuid": "bbaad99fd8b74dcbba001daec653c83a"
   },
   "outputs": [
    {
     "data": {
      "text/html": [
       "<div>\n",
       "<style>\n",
       "    .dataframe thead tr:only-child th {\n",
       "        text-align: right;\n",
       "    }\n",
       "\n",
       "    .dataframe thead th {\n",
       "        text-align: left;\n",
       "    }\n",
       "\n",
       "    .dataframe tbody tr th {\n",
       "        vertical-align: top;\n",
       "    }\n",
       "</style>\n",
       "<table border=\"1\" class=\"dataframe\">\n",
       "  <thead>\n",
       "    <tr style=\"text-align: right;\">\n",
       "      <th></th>\n",
       "      <th>simulation</th>\n",
       "      <th>theoretic</th>\n",
       "    </tr>\n",
       "  </thead>\n",
       "  <tbody>\n",
       "    <tr>\n",
       "      <th>0</th>\n",
       "      <td>0.38</td>\n",
       "      <td>0.4</td>\n",
       "    </tr>\n",
       "    <tr>\n",
       "      <th>1</th>\n",
       "      <td>0.62</td>\n",
       "      <td>0.6</td>\n",
       "    </tr>\n",
       "  </tbody>\n",
       "</table>\n",
       "</div>"
      ],
      "text/plain": [
       "   simulation  theoretic\n",
       "0        0.38        0.4\n",
       "1        0.62        0.6"
      ]
     },
     "execution_count": 17,
     "metadata": {},
     "output_type": "execute_result"
    }
   ],
   "source": [
    "y = np.bincount(x, minlength=2) / float(len(x))\n",
    "\n",
    "df = pd.DataFrame({\"theoretic\": rv.pmf(xx), \"simulation\": y})\n",
    "df.index = [0, 1]\n",
    "df"
   ]
  },
  {
   "cell_type": "markdown",
   "metadata": {
    "school_cell_uuid": "f6ce244c600a449598483bed2fa01706"
   },
   "source": [
    "seaborn의 `barplot` 명령으로 시각화하면 다음과 같다."
   ]
  },
  {
   "cell_type": "code",
   "execution_count": 18,
   "metadata": {
    "school_cell_uuid": "f86f854ce3654cd49ad8d9b8d6841a40"
   },
   "outputs": [
    {
     "data": {
      "text/html": [
       "<div>\n",
       "<style>\n",
       "    .dataframe thead tr:only-child th {\n",
       "        text-align: right;\n",
       "    }\n",
       "\n",
       "    .dataframe thead th {\n",
       "        text-align: left;\n",
       "    }\n",
       "\n",
       "    .dataframe tbody tr th {\n",
       "        vertical-align: top;\n",
       "    }\n",
       "</style>\n",
       "<table border=\"1\" class=\"dataframe\">\n",
       "  <thead>\n",
       "    <tr style=\"text-align: right;\">\n",
       "      <th></th>\n",
       "      <th>value</th>\n",
       "      <th>type</th>\n",
       "      <th>ratio</th>\n",
       "    </tr>\n",
       "  </thead>\n",
       "  <tbody>\n",
       "    <tr>\n",
       "      <th>0</th>\n",
       "      <td>0</td>\n",
       "      <td>simulation</td>\n",
       "      <td>0.38</td>\n",
       "    </tr>\n",
       "    <tr>\n",
       "      <th>1</th>\n",
       "      <td>0</td>\n",
       "      <td>theoretic</td>\n",
       "      <td>0.40</td>\n",
       "    </tr>\n",
       "    <tr>\n",
       "      <th>2</th>\n",
       "      <td>1</td>\n",
       "      <td>simulation</td>\n",
       "      <td>0.62</td>\n",
       "    </tr>\n",
       "    <tr>\n",
       "      <th>3</th>\n",
       "      <td>1</td>\n",
       "      <td>theoretic</td>\n",
       "      <td>0.60</td>\n",
       "    </tr>\n",
       "  </tbody>\n",
       "</table>\n",
       "</div>"
      ],
      "text/plain": [
       "   value        type  ratio\n",
       "0      0  simulation   0.38\n",
       "1      0   theoretic   0.40\n",
       "2      1  simulation   0.62\n",
       "3      1   theoretic   0.60"
      ]
     },
     "execution_count": 18,
     "metadata": {},
     "output_type": "execute_result"
    }
   ],
   "source": [
    "df2 = df.stack().reset_index()\n",
    "df2.columns = [\"value\", \"type\", \"ratio\"]\n",
    "df2"
   ]
  },
  {
   "cell_type": "code",
   "execution_count": 19,
   "metadata": {
    "school_cell_uuid": "0680e882239f48dea0f9d07bc17ed168"
   },
   "outputs": [
    {
     "data": {
      "image/png": "[encoded data removed]",
      "text/plain": [
       "<matplotlib.figure.Figure at 0x1b049c1bda0>"
      ]
     },
     "metadata": {},
     "output_type": "display_data"
    }
   ],
   "source": [
    "sns.barplot(x=\"value\", y=\"ratio\", hue=\"type\", data=df2)\n",
    "plt.show()"
   ]
  },
  {
   "cell_type": "markdown",
   "metadata": {
    "school_cell_uuid": "dfcd15bfda134038a60b68e7f2f68efa"
   },
   "source": [
    "## 베르누이 분포의 모멘트"
   ]
  },
  {
   "cell_type": "markdown",
   "metadata": {
    "school_cell_uuid": "7c447fc79c864adda5522362b074cbff"
   },
   "source": [
    "베르누이 분포의 모멘트는 다음과 같다.\n",
    "\n",
    "### 기댓값\n",
    "\n",
    "$$\\text{E}[X]  = \\theta$$\n",
    "\n",
    "(증명)\n",
    "\n",
    "$$\\text{E}[X]  = 1 \\cdot \\theta + 0 \\cdot (1 - \\theta) =  \\theta$$\n",
    "\n",
    "### 분산\n",
    "\n",
    "$$\\text{Var}[X] = \\theta(1-\\theta)$$\n",
    "\n",
    "(증명)\n",
    "\n",
    "$$\\text{Var}[X] = (1 - \\theta)^2 \\cdot \\theta + (0 - \\theta)^2 \\cdot (1 - \\theta) = \\theta(1-\\theta)$$"
   ]
  },
  {
   "cell_type": "markdown",
   "metadata": {},
   "source": [
    "***\n",
    "베르누이확률분포는 나중에 classification할 때 사용하게 됨\n",
    "***"
   ]
  },
  {
   "cell_type": "markdown",
   "metadata": {
    "school_cell_uuid": "ed20fab4fa4145c4aa0c955a7fc25f93"
   },
   "source": [
    "앞의 예에서는 $\\theta = 0.6$이였으므로 이론적인 기댓값과 분산은 다음과 같다.\n",
    "\n",
    "$$ \\text{E}[X] = 0.6 $$\n",
    "$$ \\text{Var}[X] = 0.6 \\cdot (1 - 0.6) = 0.24 $$\n",
    "\n",
    "데이터에서 계산한 샘플 평균 및 샘플 분산은 다음과 같이 계산한다."
   ]
  },
  {
   "cell_type": "code",
   "execution_count": 20,
   "metadata": {
    "school_cell_uuid": "60c02049ba274c1ca39aaa9c43e3c8af"
   },
   "outputs": [
    {
     "data": {
      "text/plain": [
       "0.62"
      ]
     },
     "execution_count": 20,
     "metadata": {},
     "output_type": "execute_result"
    }
   ],
   "source": [
    "np.mean(x)"
   ]
  },
  {
   "cell_type": "code",
   "execution_count": 21,
   "metadata": {
    "school_cell_uuid": "99ddca993ae24ec79465ba844d34c4d1"
   },
   "outputs": [
    {
     "data": {
      "text/plain": [
       "0.23797979797979804"
      ]
     },
     "execution_count": 21,
     "metadata": {},
     "output_type": "execute_result"
    }
   ],
   "source": [
    "np.var(x, ddof=1)"
   ]
  },
  {
   "cell_type": "markdown",
   "metadata": {
    "school_cell_uuid": "8c7bb9c5047d49d5b68c60a7b89d6733"
   },
   "source": [
    "SciPy의 describe 명령을 쓰면 다음과 같이 계산할 수 있다."
   ]
  },
  {
   "cell_type": "code",
   "execution_count": 22,
   "metadata": {
    "school_cell_uuid": "5e7a64053d934e9bafc4db5aab86aa42"
   },
   "outputs": [
    {
     "data": {
      "text/plain": [
       "(0.62, 0.23797979797979804)"
      ]
     },
     "execution_count": 22,
     "metadata": {},
     "output_type": "execute_result"
    }
   ],
   "source": [
    "s = sp.stats.describe(x)\n",
    "s[2], s[3]"
   ]
  },
  {
   "cell_type": "markdown",
   "metadata": {
    "school_cell_uuid": "b12308a7d8554b5186319c3c06998a21"
   },
   "source": [
    "또는 Pandas의 시리즈 객체로 만든 뒤에 describe 메서드를 써서 다음과 같이 계산할 수도 있다."
   ]
  },
  {
   "cell_type": "code",
   "execution_count": 23,
   "metadata": {
    "school_cell_uuid": "c938e266b0da412a96dc4d8f7cad607f"
   },
   "outputs": [
    {
     "data": {
      "text/plain": [
       "count    100.000000\n",
       "mean       0.620000\n",
       "std        0.487832\n",
       "min        0.000000\n",
       "25%        0.000000\n",
       "50%        1.000000\n",
       "75%        1.000000\n",
       "max        1.000000\n",
       "dtype: float64"
      ]
     },
     "execution_count": 23,
     "metadata": {},
     "output_type": "execute_result"
    }
   ],
   "source": [
    "pd.Series(x).describe()"
   ]
  },
  {
   "cell_type": "markdown",
   "metadata": {
    "bootstrap": {
     "panel": {
      "class": "panel-default"
     }
    },
    "school_cell_uuid": "cae9e59175fd476e882307cdb3d5cc1a"
   },
   "source": [
    "#### 연습 문제 2\n",
    "\n",
    "베르누이 확률 분포의 모수가 다음과 같을 경우에 각각 샘플을 생성한 후 기댓값과 분산을 구하고 앞의 예제와 같이 확률 밀도 함수와 비교한 카운트 플롯을 그린다.\n",
    "샘플의 갯수가 10개인 경우와 1000개인 경우에 대해 각각 위의 계산을 한다.\n",
    "\n",
    "1. $\\theta = 0.5$\n",
    "2. $\\theta = 0.9$"
   ]
  },
  {
   "cell_type": "markdown",
   "metadata": {
    "collapsed": true
   },
   "source": [
    "***\n",
    "연습문제 풀이"
   ]
  },
  {
   "cell_type": "code",
   "execution_count": 1,
   "metadata": {
    "collapsed": true
   },
   "outputs": [],
   "source": [
    "# 1\n",
    "\n",
    "theta1 = 0.5\n",
    "rv1 = sp.stats.bernoulli(theta1)\n",
    "\n",
    "x11 = rv1.rvs(10, random_state=0)\n",
    "x12 = rv1.rvs(1000, random_state=0)"
   ]
  },
  {
   "cell_type": "code",
   "execution_count": 9,
   "metadata": {},
   "outputs": [
    {
     "name": "stdout",
     "output_type": "stream",
     "text": [
      "평균(n=10): 0.7\n",
      "평균(n=1000): 0.483\n",
      "분산(n=10): 0.233333333333\n",
      "분산(n=1000): 0.249960960961\n"
     ]
    }
   ],
   "source": [
    "print(\"평균(n=10):\", np.mean(x11))\n",
    "print(\"평균(n=1000):\", np.mean(x12))\n",
    "\n",
    "print(\"분산(n=10):\", np.var(x11, ddof=1))\n",
    "print(\"분산(n=1000):\", np.var(x12, ddof=1))"
   ]
  },
  {
   "cell_type": "code",
   "execution_count": 27,
   "metadata": {},
   "outputs": [
    {
     "data": {
      "image/png": "[encoded data removed]",
      "text/plain": [
       "<matplotlib.figure.Figure at 0x2c905c235f8>"
      ]
     },
     "metadata": {},
     "output_type": "display_data"
    }
   ],
   "source": [
    "plt.subplot(121)\n",
    "sns.countplot(x11)\n",
    "plt.title(\"n = 10\")\n",
    "\n",
    "plt.subplot(122)\n",
    "sns.countplot(x12)\n",
    "plt.title(\"n = 1000\")\n",
    "\n",
    "plt.show()"
   ]
  },
  {
   "cell_type": "code",
   "execution_count": 22,
   "metadata": {
    "collapsed": true
   },
   "outputs": [],
   "source": [
    "# 2\n",
    "\n",
    "theta2 = 0.9\n",
    "rv2 = sp.stats.bernoulli(theta2)\n",
    "\n",
    "x21 = rv2.rvs(10, random_state=0)\n",
    "x22 = rv2.rvs(1000, random_state=0)"
   ]
  },
  {
   "cell_type": "code",
   "execution_count": 28,
   "metadata": {},
   "outputs": [
    {
     "data": {
      "image/png": "[encoded data removed]",
      "text/plain": [
       "<matplotlib.figure.Figure at 0x2c9059b6208>"
      ]
     },
     "metadata": {},
     "output_type": "display_data"
    }
   ],
   "source": [
    "plt.subplot(121)\n",
    "sns.countplot(x21)\n",
    "plt.title(\"n = 10\")\n",
    "\n",
    "plt.subplot(122)\n",
    "sns.countplot(x22)\n",
    "plt.title(\"n = 1000\")\n",
    "\n",
    "plt.show()"
   ]
  },
  {
   "cell_type": "code",
   "execution_count": null,
   "metadata": {
    "collapsed": true
   },
   "outputs": [],
   "source": []
  }
 ],
 "metadata": {
  "kernelspec": {
   "display_name": "Python 3",
   "language": "python",
   "name": "python3"
  },
  "language_info": {
   "codemirror_mode": {
    "name": "ipython",
    "version": 3
   },
   "file_extension": ".py",
   "mimetype": "text/x-python",
   "name": "python",
   "nbconvert_exporter": "python",
   "pygments_lexer": "ipython3",
   "version": "3.6.1"
  }
 },
 "nbformat": 4,
 "nbformat_minor": 2
}
